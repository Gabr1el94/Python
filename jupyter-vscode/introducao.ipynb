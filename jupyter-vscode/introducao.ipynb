{
 "nbformat": 4,
 "nbformat_minor": 2,
 "metadata": {
  "language_info": {
   "name": "python",
   "codemirror_mode": {
    "name": "ipython",
    "version": 3
   },
   "version": "3.7.6-final"
  },
  "orig_nbformat": 2,
  "file_extension": ".py",
  "mimetype": "text/x-python",
  "name": "python",
  "npconvert_exporter": "python",
  "pygments_lexer": "ipython3",
  "version": 3,
  "kernelspec": {
   "name": "python3",
   "display_name": "Python 3"
  }
 },
 "cells": [
  {
   "cell_type": "markdown",
   "metadata": {},
   "source": [
    "# Importando as bibliotecas"
   ]
  },
  {
   "cell_type": "code",
   "execution_count": 1,
   "metadata": {},
   "outputs": [],
   "source": [
    "import numpy as np \n",
    "import seaborn as sb"
   ]
  },
  {
   "cell_type": "code",
   "execution_count": 2,
   "metadata": {},
   "outputs": [
    {
     "output_type": "stream",
     "name": "stdout",
     "text": "Hello World\n"
    }
   ],
   "source": [
    "print(\"Hello World\")"
   ]
  },
  {
   "cell_type": "code",
   "execution_count": 3,
   "metadata": {},
   "outputs": [],
   "source": [
    "msg = \"Data Science is fun...\"\n",
    "name=[\"gabriel\",\"soares\"]"
   ]
  },
  {
   "cell_type": "code",
   "execution_count": 4,
   "metadata": {},
   "outputs": [
    {
     "output_type": "stream",
     "name": "stdout",
     "text": "Minúsculo: data science is fun...\nMaiúsculo: DATA SCIENCE IS FUN...\nCapitalize:Gabriel Soares\n"
    }
   ],
   "source": [
    "print(\"Minúsculo: \"+msg.lower())\n",
    "print(\"Maiúsculo: \"+msg.upper())\n",
    "print(\"Capitalize:\"+name[0].capitalize()+\" \"+name[1].capitalize())"
   ]
  },
  {
   "cell_type": "markdown",
   "metadata": {},
   "source": [
    "### Sabendo outras variáveis"
   ]
  },
  {
   "cell_type": "code",
   "execution_count": 11,
   "metadata": {},
   "outputs": [],
   "source": [
    "sx = np.random.normal(5,2,1000)"
   ]
  },
  {
   "cell_type": "code",
   "execution_count": 9,
   "metadata": {},
   "outputs": [
    {
     "output_type": "execute_result",
     "data": {
      "text/plain": "array([6.36626917, 5.51972335, 6.08489834, 5.22364022, 6.99565695,\n       7.7117022 , 5.87438505, 8.41715804, 4.43797788, 3.49010685])"
     },
     "metadata": {},
     "execution_count": 9
    }
   ],
   "source": [
    "sx[:10]"
   ]
  },
  {
   "cell_type": "markdown",
   "metadata": {},
   "source": [
    "## Criando gráficos pelo Seaborn"
   ]
  },
  {
   "cell_type": "code",
   "execution_count": 12,
   "metadata": {},
   "outputs": [
    {
     "output_type": "execute_result",
     "data": {
      "text/plain": "<matplotlib.axes._subplots.AxesSubplot at 0x7faa167a2650>"
     },
     "metadata": {},
     "execution_count": 12
    },
    {
     "output_type": "display_data",
     "data": {
      "text/plain": "<Figure size 432x288 with 1 Axes>",
      "image/svg+xml": "<?xml version=\"1.0\" encoding=\"utf-8\" standalone=\"no\"?>\n<!DOCTYPE svg PUBLIC \"-//W3C//DTD SVG 1.1//EN\"\n  \"http://www.w3.org/Graphics/SVG/1.1/DTD/svg11.dtd\">\n<!-- Created with matplotlib (https://matplotlib.org/) -->\n<svg height=\"248.518125pt\" version=\"1.1\" viewBox=\"0 0 384.828125 248.518125\" width=\"384.828125pt\" xmlns=\"http://www.w3.org/2000/svg\" xmlns:xlink=\"http://www.w3.org/1999/xlink\">\n <defs>\n  <style type=\"text/css\">\n*{stroke-linecap:butt;stroke-linejoin:round;}\n  </style>\n </defs>\n <g id=\"figure_1\">\n  <g id=\"patch_1\">\n   <path d=\"M 0 248.518125 \nL 384.828125 248.518125 \nL 384.828125 0 \nL 0 0 \nz\n\" style=\"fill:none;\"/>\n  </g>\n  <g id=\"axes_1\">\n   <g id=\"patch_2\">\n    <path d=\"M 42.828125 224.64 \nL 377.628125 224.64 \nL 377.628125 7.2 \nL 42.828125 7.2 \nz\n\" style=\"fill:#ffffff;\"/>\n   </g>\n   <g id=\"patch_3\">\n    <path clip-path=\"url(#p9f29549f13)\" d=\"M 88.250037 224.64 \nL 98.414878 224.64 \nL 98.414878 222.667755 \nL 88.250037 222.667755 \nz\n\" style=\"fill:#1f77b4;opacity:0.4;\"/>\n   </g>\n   <g id=\"patch_4\">\n    <path clip-path=\"url(#p9f29549f13)\" d=\"M 98.414878 224.64 \nL 108.579719 224.64 \nL 108.579719 224.64 \nL 98.414878 224.64 \nz\n\" style=\"fill:#1f77b4;opacity:0.4;\"/>\n   </g>\n   <g id=\"patch_5\">\n    <path clip-path=\"url(#p9f29549f13)\" d=\"M 108.579719 224.64 \nL 118.744559 224.64 \nL 118.744559 224.64 \nL 108.579719 224.64 \nz\n\" style=\"fill:#1f77b4;opacity:0.4;\"/>\n   </g>\n   <g id=\"patch_6\">\n    <path clip-path=\"url(#p9f29549f13)\" d=\"M 118.744559 224.64 \nL 128.9094 224.64 \nL 128.9094 218.723265 \nL 118.744559 218.723265 \nz\n\" style=\"fill:#1f77b4;opacity:0.4;\"/>\n   </g>\n   <g id=\"patch_7\">\n    <path clip-path=\"url(#p9f29549f13)\" d=\"M 128.9094 224.64 \nL 139.074241 224.64 \nL 139.074241 210.834286 \nL 128.9094 210.834286 \nz\n\" style=\"fill:#1f77b4;opacity:0.4;\"/>\n   </g>\n   <g id=\"patch_8\">\n    <path clip-path=\"url(#p9f29549f13)\" d=\"M 139.074241 224.64 \nL 149.239081 224.64 \nL 149.239081 202.945306 \nL 139.074241 202.945306 \nz\n\" style=\"fill:#1f77b4;opacity:0.4;\"/>\n   </g>\n   <g id=\"patch_9\">\n    <path clip-path=\"url(#p9f29549f13)\" d=\"M 149.239081 224.64 \nL 159.403922 224.64 \nL 159.403922 193.084082 \nL 149.239081 193.084082 \nz\n\" style=\"fill:#1f77b4;opacity:0.4;\"/>\n   </g>\n   <g id=\"patch_10\">\n    <path clip-path=\"url(#p9f29549f13)\" d=\"M 159.403922 224.64 \nL 169.568762 224.64 \nL 169.568762 163.500408 \nL 159.403922 163.500408 \nz\n\" style=\"fill:#1f77b4;opacity:0.4;\"/>\n   </g>\n   <g id=\"patch_11\">\n    <path clip-path=\"url(#p9f29549f13)\" d=\"M 169.568762 224.64 \nL 179.733603 224.64 \nL 179.733603 153.639184 \nL 169.568762 153.639184 \nz\n\" style=\"fill:#1f77b4;opacity:0.4;\"/>\n   </g>\n   <g id=\"patch_12\">\n    <path clip-path=\"url(#p9f29549f13)\" d=\"M 179.733603 224.64 \nL 189.898444 224.64 \nL 189.898444 122.083265 \nL 179.733603 122.083265 \nz\n\" style=\"fill:#1f77b4;opacity:0.4;\"/>\n   </g>\n   <g id=\"patch_13\">\n    <path clip-path=\"url(#p9f29549f13)\" d=\"M 189.898444 224.64 \nL 200.063284 224.64 \nL 200.063284 100.388571 \nL 189.898444 100.388571 \nz\n\" style=\"fill:#1f77b4;opacity:0.4;\"/>\n   </g>\n   <g id=\"patch_14\">\n    <path clip-path=\"url(#p9f29549f13)\" d=\"M 200.063284 224.64 \nL 210.228125 224.64 \nL 210.228125 49.110204 \nL 200.063284 49.110204 \nz\n\" style=\"fill:#1f77b4;opacity:0.4;\"/>\n   </g>\n   <g id=\"patch_15\">\n    <path clip-path=\"url(#p9f29549f13)\" d=\"M 210.228125 224.64 \nL 220.392966 224.64 \nL 220.392966 29.387755 \nL 210.228125 29.387755 \nz\n\" style=\"fill:#1f77b4;opacity:0.4;\"/>\n   </g>\n   <g id=\"patch_16\">\n    <path clip-path=\"url(#p9f29549f13)\" d=\"M 220.392966 224.64 \nL 230.557806 224.64 \nL 230.557806 39.24898 \nL 220.392966 39.24898 \nz\n\" style=\"fill:#1f77b4;opacity:0.4;\"/>\n   </g>\n   <g id=\"patch_17\">\n    <path clip-path=\"url(#p9f29549f13)\" d=\"M 230.557806 224.64 \nL 240.722647 224.64 \nL 240.722647 17.554286 \nL 230.557806 17.554286 \nz\n\" style=\"fill:#1f77b4;opacity:0.4;\"/>\n   </g>\n   <g id=\"patch_18\">\n    <path clip-path=\"url(#p9f29549f13)\" d=\"M 240.722647 224.64 \nL 250.887488 224.64 \nL 250.887488 25.443265 \nL 240.722647 25.443265 \nz\n\" style=\"fill:#1f77b4;opacity:0.4;\"/>\n   </g>\n   <g id=\"patch_19\">\n    <path clip-path=\"url(#p9f29549f13)\" d=\"M 250.887488 224.64 \nL 261.052328 224.64 \nL 261.052328 47.137959 \nL 250.887488 47.137959 \nz\n\" style=\"fill:#1f77b4;opacity:0.4;\"/>\n   </g>\n   <g id=\"patch_20\">\n    <path clip-path=\"url(#p9f29549f13)\" d=\"M 261.052328 224.64 \nL 271.217169 224.64 \nL 271.217169 110.249796 \nL 261.052328 110.249796 \nz\n\" style=\"fill:#1f77b4;opacity:0.4;\"/>\n   </g>\n   <g id=\"patch_21\">\n    <path clip-path=\"url(#p9f29549f13)\" d=\"M 271.217169 224.64 \nL 281.382009 224.64 \nL 281.382009 137.861224 \nL 271.217169 137.861224 \nz\n\" style=\"fill:#1f77b4;opacity:0.4;\"/>\n   </g>\n   <g id=\"patch_22\">\n    <path clip-path=\"url(#p9f29549f13)\" d=\"M 281.382009 224.64 \nL 291.54685 224.64 \nL 291.54685 147.722449 \nL 281.382009 147.722449 \nz\n\" style=\"fill:#1f77b4;opacity:0.4;\"/>\n   </g>\n   <g id=\"patch_23\">\n    <path clip-path=\"url(#p9f29549f13)\" d=\"M 291.54685 224.64 \nL 301.711691 224.64 \nL 301.711691 177.306122 \nL 291.54685 177.306122 \nz\n\" style=\"fill:#1f77b4;opacity:0.4;\"/>\n   </g>\n   <g id=\"patch_24\">\n    <path clip-path=\"url(#p9f29549f13)\" d=\"M 301.711691 224.64 \nL 311.876531 224.64 \nL 311.876531 187.167347 \nL 301.711691 187.167347 \nz\n\" style=\"fill:#1f77b4;opacity:0.4;\"/>\n   </g>\n   <g id=\"patch_25\">\n    <path clip-path=\"url(#p9f29549f13)\" d=\"M 311.876531 224.64 \nL 322.041372 224.64 \nL 322.041372 206.889796 \nL 311.876531 206.889796 \nz\n\" style=\"fill:#1f77b4;opacity:0.4;\"/>\n   </g>\n   <g id=\"patch_26\">\n    <path clip-path=\"url(#p9f29549f13)\" d=\"M 322.041372 224.64 \nL 332.206213 224.64 \nL 332.206213 206.889796 \nL 322.041372 206.889796 \nz\n\" style=\"fill:#1f77b4;opacity:0.4;\"/>\n   </g>\n   <g id=\"matplotlib.axis_1\">\n    <g id=\"xtick_1\">\n     <g id=\"line2d_1\">\n      <defs>\n       <path d=\"M 0 0 \nL 0 3.5 \n\" id=\"m1df7d3f558\" style=\"stroke:#000000;stroke-width:0.8;\"/>\n      </defs>\n      <g>\n       <use style=\"stroke:#000000;stroke-width:0.8;\" x=\"47.232463\" xlink:href=\"#m1df7d3f558\" y=\"224.64\"/>\n      </g>\n     </g>\n     <g id=\"text_1\">\n      <!-- −4 -->\n      <defs>\n       <path d=\"M 10.59375 35.5 \nL 73.1875 35.5 \nL 73.1875 27.203125 \nL 10.59375 27.203125 \nz\n\" id=\"DejaVuSans-8722\"/>\n       <path d=\"M 37.796875 64.3125 \nL 12.890625 25.390625 \nL 37.796875 25.390625 \nz\nM 35.203125 72.90625 \nL 47.609375 72.90625 \nL 47.609375 25.390625 \nL 58.015625 25.390625 \nL 58.015625 17.1875 \nL 47.609375 17.1875 \nL 47.609375 0 \nL 37.796875 0 \nL 37.796875 17.1875 \nL 4.890625 17.1875 \nL 4.890625 26.703125 \nz\n\" id=\"DejaVuSans-52\"/>\n      </defs>\n      <g transform=\"translate(39.861369 239.238437)scale(0.1 -0.1)\">\n       <use xlink:href=\"#DejaVuSans-8722\"/>\n       <use x=\"83.789062\" xlink:href=\"#DejaVuSans-52\"/>\n      </g>\n     </g>\n    </g>\n    <g id=\"xtick_2\">\n     <g id=\"line2d_2\">\n      <g>\n       <use style=\"stroke:#000000;stroke-width:0.8;\" x=\"87.668599\" xlink:href=\"#m1df7d3f558\" y=\"224.64\"/>\n      </g>\n     </g>\n     <g id=\"text_2\">\n      <!-- −2 -->\n      <defs>\n       <path d=\"M 19.1875 8.296875 \nL 53.609375 8.296875 \nL 53.609375 0 \nL 7.328125 0 \nL 7.328125 8.296875 \nQ 12.9375 14.109375 22.625 23.890625 \nQ 32.328125 33.6875 34.8125 36.53125 \nQ 39.546875 41.84375 41.421875 45.53125 \nQ 43.3125 49.21875 43.3125 52.78125 \nQ 43.3125 58.59375 39.234375 62.25 \nQ 35.15625 65.921875 28.609375 65.921875 \nQ 23.96875 65.921875 18.8125 64.3125 \nQ 13.671875 62.703125 7.8125 59.421875 \nL 7.8125 69.390625 \nQ 13.765625 71.78125 18.9375 73 \nQ 24.125 74.21875 28.421875 74.21875 \nQ 39.75 74.21875 46.484375 68.546875 \nQ 53.21875 62.890625 53.21875 53.421875 \nQ 53.21875 48.921875 51.53125 44.890625 \nQ 49.859375 40.875 45.40625 35.40625 \nQ 44.1875 33.984375 37.640625 27.21875 \nQ 31.109375 20.453125 19.1875 8.296875 \nz\n\" id=\"DejaVuSans-50\"/>\n      </defs>\n      <g transform=\"translate(80.297505 239.238437)scale(0.1 -0.1)\">\n       <use xlink:href=\"#DejaVuSans-8722\"/>\n       <use x=\"83.789062\" xlink:href=\"#DejaVuSans-50\"/>\n      </g>\n     </g>\n    </g>\n    <g id=\"xtick_3\">\n     <g id=\"line2d_3\">\n      <g>\n       <use style=\"stroke:#000000;stroke-width:0.8;\" x=\"128.104735\" xlink:href=\"#m1df7d3f558\" y=\"224.64\"/>\n      </g>\n     </g>\n     <g id=\"text_3\">\n      <!-- 0 -->\n      <defs>\n       <path d=\"M 31.78125 66.40625 \nQ 24.171875 66.40625 20.328125 58.90625 \nQ 16.5 51.421875 16.5 36.375 \nQ 16.5 21.390625 20.328125 13.890625 \nQ 24.171875 6.390625 31.78125 6.390625 \nQ 39.453125 6.390625 43.28125 13.890625 \nQ 47.125 21.390625 47.125 36.375 \nQ 47.125 51.421875 43.28125 58.90625 \nQ 39.453125 66.40625 31.78125 66.40625 \nz\nM 31.78125 74.21875 \nQ 44.046875 74.21875 50.515625 64.515625 \nQ 56.984375 54.828125 56.984375 36.375 \nQ 56.984375 17.96875 50.515625 8.265625 \nQ 44.046875 -1.421875 31.78125 -1.421875 \nQ 19.53125 -1.421875 13.0625 8.265625 \nQ 6.59375 17.96875 6.59375 36.375 \nQ 6.59375 54.828125 13.0625 64.515625 \nQ 19.53125 74.21875 31.78125 74.21875 \nz\n\" id=\"DejaVuSans-48\"/>\n      </defs>\n      <g transform=\"translate(124.923485 239.238437)scale(0.1 -0.1)\">\n       <use xlink:href=\"#DejaVuSans-48\"/>\n      </g>\n     </g>\n    </g>\n    <g id=\"xtick_4\">\n     <g id=\"line2d_4\">\n      <g>\n       <use style=\"stroke:#000000;stroke-width:0.8;\" x=\"168.540871\" xlink:href=\"#m1df7d3f558\" y=\"224.64\"/>\n      </g>\n     </g>\n     <g id=\"text_4\">\n      <!-- 2 -->\n      <g transform=\"translate(165.359621 239.238437)scale(0.1 -0.1)\">\n       <use xlink:href=\"#DejaVuSans-50\"/>\n      </g>\n     </g>\n    </g>\n    <g id=\"xtick_5\">\n     <g id=\"line2d_5\">\n      <g>\n       <use style=\"stroke:#000000;stroke-width:0.8;\" x=\"208.977007\" xlink:href=\"#m1df7d3f558\" y=\"224.64\"/>\n      </g>\n     </g>\n     <g id=\"text_5\">\n      <!-- 4 -->\n      <g transform=\"translate(205.795757 239.238437)scale(0.1 -0.1)\">\n       <use xlink:href=\"#DejaVuSans-52\"/>\n      </g>\n     </g>\n    </g>\n    <g id=\"xtick_6\">\n     <g id=\"line2d_6\">\n      <g>\n       <use style=\"stroke:#000000;stroke-width:0.8;\" x=\"249.413143\" xlink:href=\"#m1df7d3f558\" y=\"224.64\"/>\n      </g>\n     </g>\n     <g id=\"text_6\">\n      <!-- 6 -->\n      <defs>\n       <path d=\"M 33.015625 40.375 \nQ 26.375 40.375 22.484375 35.828125 \nQ 18.609375 31.296875 18.609375 23.390625 \nQ 18.609375 15.53125 22.484375 10.953125 \nQ 26.375 6.390625 33.015625 6.390625 \nQ 39.65625 6.390625 43.53125 10.953125 \nQ 47.40625 15.53125 47.40625 23.390625 \nQ 47.40625 31.296875 43.53125 35.828125 \nQ 39.65625 40.375 33.015625 40.375 \nz\nM 52.59375 71.296875 \nL 52.59375 62.3125 \nQ 48.875 64.0625 45.09375 64.984375 \nQ 41.3125 65.921875 37.59375 65.921875 \nQ 27.828125 65.921875 22.671875 59.328125 \nQ 17.53125 52.734375 16.796875 39.40625 \nQ 19.671875 43.65625 24.015625 45.921875 \nQ 28.375 48.1875 33.59375 48.1875 \nQ 44.578125 48.1875 50.953125 41.515625 \nQ 57.328125 34.859375 57.328125 23.390625 \nQ 57.328125 12.15625 50.6875 5.359375 \nQ 44.046875 -1.421875 33.015625 -1.421875 \nQ 20.359375 -1.421875 13.671875 8.265625 \nQ 6.984375 17.96875 6.984375 36.375 \nQ 6.984375 53.65625 15.1875 63.9375 \nQ 23.390625 74.21875 37.203125 74.21875 \nQ 40.921875 74.21875 44.703125 73.484375 \nQ 48.484375 72.75 52.59375 71.296875 \nz\n\" id=\"DejaVuSans-54\"/>\n      </defs>\n      <g transform=\"translate(246.231893 239.238437)scale(0.1 -0.1)\">\n       <use xlink:href=\"#DejaVuSans-54\"/>\n      </g>\n     </g>\n    </g>\n    <g id=\"xtick_7\">\n     <g id=\"line2d_7\">\n      <g>\n       <use style=\"stroke:#000000;stroke-width:0.8;\" x=\"289.849279\" xlink:href=\"#m1df7d3f558\" y=\"224.64\"/>\n      </g>\n     </g>\n     <g id=\"text_7\">\n      <!-- 8 -->\n      <defs>\n       <path d=\"M 31.78125 34.625 \nQ 24.75 34.625 20.71875 30.859375 \nQ 16.703125 27.09375 16.703125 20.515625 \nQ 16.703125 13.921875 20.71875 10.15625 \nQ 24.75 6.390625 31.78125 6.390625 \nQ 38.8125 6.390625 42.859375 10.171875 \nQ 46.921875 13.96875 46.921875 20.515625 \nQ 46.921875 27.09375 42.890625 30.859375 \nQ 38.875 34.625 31.78125 34.625 \nz\nM 21.921875 38.8125 \nQ 15.578125 40.375 12.03125 44.71875 \nQ 8.5 49.078125 8.5 55.328125 \nQ 8.5 64.0625 14.71875 69.140625 \nQ 20.953125 74.21875 31.78125 74.21875 \nQ 42.671875 74.21875 48.875 69.140625 \nQ 55.078125 64.0625 55.078125 55.328125 \nQ 55.078125 49.078125 51.53125 44.71875 \nQ 48 40.375 41.703125 38.8125 \nQ 48.828125 37.15625 52.796875 32.3125 \nQ 56.78125 27.484375 56.78125 20.515625 \nQ 56.78125 9.90625 50.3125 4.234375 \nQ 43.84375 -1.421875 31.78125 -1.421875 \nQ 19.734375 -1.421875 13.25 4.234375 \nQ 6.78125 9.90625 6.78125 20.515625 \nQ 6.78125 27.484375 10.78125 32.3125 \nQ 14.796875 37.15625 21.921875 38.8125 \nz\nM 18.3125 54.390625 \nQ 18.3125 48.734375 21.84375 45.5625 \nQ 25.390625 42.390625 31.78125 42.390625 \nQ 38.140625 42.390625 41.71875 45.5625 \nQ 45.3125 48.734375 45.3125 54.390625 \nQ 45.3125 60.0625 41.71875 63.234375 \nQ 38.140625 66.40625 31.78125 66.40625 \nQ 25.390625 66.40625 21.84375 63.234375 \nQ 18.3125 60.0625 18.3125 54.390625 \nz\n\" id=\"DejaVuSans-56\"/>\n      </defs>\n      <g transform=\"translate(286.668029 239.238437)scale(0.1 -0.1)\">\n       <use xlink:href=\"#DejaVuSans-56\"/>\n      </g>\n     </g>\n    </g>\n    <g id=\"xtick_8\">\n     <g id=\"line2d_8\">\n      <g>\n       <use style=\"stroke:#000000;stroke-width:0.8;\" x=\"330.285415\" xlink:href=\"#m1df7d3f558\" y=\"224.64\"/>\n      </g>\n     </g>\n     <g id=\"text_8\">\n      <!-- 10 -->\n      <defs>\n       <path d=\"M 12.40625 8.296875 \nL 28.515625 8.296875 \nL 28.515625 63.921875 \nL 10.984375 60.40625 \nL 10.984375 69.390625 \nL 28.421875 72.90625 \nL 38.28125 72.90625 \nL 38.28125 8.296875 \nL 54.390625 8.296875 \nL 54.390625 0 \nL 12.40625 0 \nz\n\" id=\"DejaVuSans-49\"/>\n      </defs>\n      <g transform=\"translate(323.922915 239.238437)scale(0.1 -0.1)\">\n       <use xlink:href=\"#DejaVuSans-49\"/>\n       <use x=\"63.623047\" xlink:href=\"#DejaVuSans-48\"/>\n      </g>\n     </g>\n    </g>\n    <g id=\"xtick_9\">\n     <g id=\"line2d_9\">\n      <g>\n       <use style=\"stroke:#000000;stroke-width:0.8;\" x=\"370.721551\" xlink:href=\"#m1df7d3f558\" y=\"224.64\"/>\n      </g>\n     </g>\n     <g id=\"text_9\">\n      <!-- 12 -->\n      <g transform=\"translate(364.359051 239.238437)scale(0.1 -0.1)\">\n       <use xlink:href=\"#DejaVuSans-49\"/>\n       <use x=\"63.623047\" xlink:href=\"#DejaVuSans-50\"/>\n      </g>\n     </g>\n    </g>\n   </g>\n   <g id=\"matplotlib.axis_2\">\n    <g id=\"ytick_1\">\n     <g id=\"line2d_10\">\n      <defs>\n       <path d=\"M 0 0 \nL -3.5 0 \n\" id=\"m38e198421f\" style=\"stroke:#000000;stroke-width:0.8;\"/>\n      </defs>\n      <g>\n       <use style=\"stroke:#000000;stroke-width:0.8;\" x=\"42.828125\" xlink:href=\"#m38e198421f\" y=\"224.64\"/>\n      </g>\n     </g>\n     <g id=\"text_10\">\n      <!-- 0.000 -->\n      <defs>\n       <path d=\"M 10.6875 12.40625 \nL 21 12.40625 \nL 21 0 \nL 10.6875 0 \nz\n\" id=\"DejaVuSans-46\"/>\n      </defs>\n      <g transform=\"translate(7.2 228.439219)scale(0.1 -0.1)\">\n       <use xlink:href=\"#DejaVuSans-48\"/>\n       <use x=\"63.623047\" xlink:href=\"#DejaVuSans-46\"/>\n       <use x=\"95.410156\" xlink:href=\"#DejaVuSans-48\"/>\n       <use x=\"159.033203\" xlink:href=\"#DejaVuSans-48\"/>\n       <use x=\"222.65625\" xlink:href=\"#DejaVuSans-48\"/>\n      </g>\n     </g>\n    </g>\n    <g id=\"ytick_2\">\n     <g id=\"line2d_11\">\n      <g>\n       <use style=\"stroke:#000000;stroke-width:0.8;\" x=\"42.828125\" xlink:href=\"#m38e198421f\" y=\"199.850842\"/>\n      </g>\n     </g>\n     <g id=\"text_11\">\n      <!-- 0.025 -->\n      <defs>\n       <path d=\"M 10.796875 72.90625 \nL 49.515625 72.90625 \nL 49.515625 64.59375 \nL 19.828125 64.59375 \nL 19.828125 46.734375 \nQ 21.96875 47.46875 24.109375 47.828125 \nQ 26.265625 48.1875 28.421875 48.1875 \nQ 40.625 48.1875 47.75 41.5 \nQ 54.890625 34.8125 54.890625 23.390625 \nQ 54.890625 11.625 47.5625 5.09375 \nQ 40.234375 -1.421875 26.90625 -1.421875 \nQ 22.3125 -1.421875 17.546875 -0.640625 \nQ 12.796875 0.140625 7.71875 1.703125 \nL 7.71875 11.625 \nQ 12.109375 9.234375 16.796875 8.0625 \nQ 21.484375 6.890625 26.703125 6.890625 \nQ 35.15625 6.890625 40.078125 11.328125 \nQ 45.015625 15.765625 45.015625 23.390625 \nQ 45.015625 31 40.078125 35.4375 \nQ 35.15625 39.890625 26.703125 39.890625 \nQ 22.75 39.890625 18.8125 39.015625 \nQ 14.890625 38.140625 10.796875 36.28125 \nz\n\" id=\"DejaVuSans-53\"/>\n      </defs>\n      <g transform=\"translate(7.2 203.650061)scale(0.1 -0.1)\">\n       <use xlink:href=\"#DejaVuSans-48\"/>\n       <use x=\"63.623047\" xlink:href=\"#DejaVuSans-46\"/>\n       <use x=\"95.410156\" xlink:href=\"#DejaVuSans-48\"/>\n       <use x=\"159.033203\" xlink:href=\"#DejaVuSans-50\"/>\n       <use x=\"222.65625\" xlink:href=\"#DejaVuSans-53\"/>\n      </g>\n     </g>\n    </g>\n    <g id=\"ytick_3\">\n     <g id=\"line2d_12\">\n      <g>\n       <use style=\"stroke:#000000;stroke-width:0.8;\" x=\"42.828125\" xlink:href=\"#m38e198421f\" y=\"175.061685\"/>\n      </g>\n     </g>\n     <g id=\"text_12\">\n      <!-- 0.050 -->\n      <g transform=\"translate(7.2 178.860903)scale(0.1 -0.1)\">\n       <use xlink:href=\"#DejaVuSans-48\"/>\n       <use x=\"63.623047\" xlink:href=\"#DejaVuSans-46\"/>\n       <use x=\"95.410156\" xlink:href=\"#DejaVuSans-48\"/>\n       <use x=\"159.033203\" xlink:href=\"#DejaVuSans-53\"/>\n       <use x=\"222.65625\" xlink:href=\"#DejaVuSans-48\"/>\n      </g>\n     </g>\n    </g>\n    <g id=\"ytick_4\">\n     <g id=\"line2d_13\">\n      <g>\n       <use style=\"stroke:#000000;stroke-width:0.8;\" x=\"42.828125\" xlink:href=\"#m38e198421f\" y=\"150.272527\"/>\n      </g>\n     </g>\n     <g id=\"text_13\">\n      <!-- 0.075 -->\n      <defs>\n       <path d=\"M 8.203125 72.90625 \nL 55.078125 72.90625 \nL 55.078125 68.703125 \nL 28.609375 0 \nL 18.3125 0 \nL 43.21875 64.59375 \nL 8.203125 64.59375 \nz\n\" id=\"DejaVuSans-55\"/>\n      </defs>\n      <g transform=\"translate(7.2 154.071746)scale(0.1 -0.1)\">\n       <use xlink:href=\"#DejaVuSans-48\"/>\n       <use x=\"63.623047\" xlink:href=\"#DejaVuSans-46\"/>\n       <use x=\"95.410156\" xlink:href=\"#DejaVuSans-48\"/>\n       <use x=\"159.033203\" xlink:href=\"#DejaVuSans-55\"/>\n       <use x=\"222.65625\" xlink:href=\"#DejaVuSans-53\"/>\n      </g>\n     </g>\n    </g>\n    <g id=\"ytick_5\">\n     <g id=\"line2d_14\">\n      <g>\n       <use style=\"stroke:#000000;stroke-width:0.8;\" x=\"42.828125\" xlink:href=\"#m38e198421f\" y=\"125.483369\"/>\n      </g>\n     </g>\n     <g id=\"text_14\">\n      <!-- 0.100 -->\n      <g transform=\"translate(7.2 129.282588)scale(0.1 -0.1)\">\n       <use xlink:href=\"#DejaVuSans-48\"/>\n       <use x=\"63.623047\" xlink:href=\"#DejaVuSans-46\"/>\n       <use x=\"95.410156\" xlink:href=\"#DejaVuSans-49\"/>\n       <use x=\"159.033203\" xlink:href=\"#DejaVuSans-48\"/>\n       <use x=\"222.65625\" xlink:href=\"#DejaVuSans-48\"/>\n      </g>\n     </g>\n    </g>\n    <g id=\"ytick_6\">\n     <g id=\"line2d_15\">\n      <g>\n       <use style=\"stroke:#000000;stroke-width:0.8;\" x=\"42.828125\" xlink:href=\"#m38e198421f\" y=\"100.694212\"/>\n      </g>\n     </g>\n     <g id=\"text_15\">\n      <!-- 0.125 -->\n      <g transform=\"translate(7.2 104.49343)scale(0.1 -0.1)\">\n       <use xlink:href=\"#DejaVuSans-48\"/>\n       <use x=\"63.623047\" xlink:href=\"#DejaVuSans-46\"/>\n       <use x=\"95.410156\" xlink:href=\"#DejaVuSans-49\"/>\n       <use x=\"159.033203\" xlink:href=\"#DejaVuSans-50\"/>\n       <use x=\"222.65625\" xlink:href=\"#DejaVuSans-53\"/>\n      </g>\n     </g>\n    </g>\n    <g id=\"ytick_7\">\n     <g id=\"line2d_16\">\n      <g>\n       <use style=\"stroke:#000000;stroke-width:0.8;\" x=\"42.828125\" xlink:href=\"#m38e198421f\" y=\"75.905054\"/>\n      </g>\n     </g>\n     <g id=\"text_16\">\n      <!-- 0.150 -->\n      <g transform=\"translate(7.2 79.704273)scale(0.1 -0.1)\">\n       <use xlink:href=\"#DejaVuSans-48\"/>\n       <use x=\"63.623047\" xlink:href=\"#DejaVuSans-46\"/>\n       <use x=\"95.410156\" xlink:href=\"#DejaVuSans-49\"/>\n       <use x=\"159.033203\" xlink:href=\"#DejaVuSans-53\"/>\n       <use x=\"222.65625\" xlink:href=\"#DejaVuSans-48\"/>\n      </g>\n     </g>\n    </g>\n    <g id=\"ytick_8\">\n     <g id=\"line2d_17\">\n      <g>\n       <use style=\"stroke:#000000;stroke-width:0.8;\" x=\"42.828125\" xlink:href=\"#m38e198421f\" y=\"51.115896\"/>\n      </g>\n     </g>\n     <g id=\"text_17\">\n      <!-- 0.175 -->\n      <g transform=\"translate(7.2 54.915115)scale(0.1 -0.1)\">\n       <use xlink:href=\"#DejaVuSans-48\"/>\n       <use x=\"63.623047\" xlink:href=\"#DejaVuSans-46\"/>\n       <use x=\"95.410156\" xlink:href=\"#DejaVuSans-49\"/>\n       <use x=\"159.033203\" xlink:href=\"#DejaVuSans-55\"/>\n       <use x=\"222.65625\" xlink:href=\"#DejaVuSans-53\"/>\n      </g>\n     </g>\n    </g>\n    <g id=\"ytick_9\">\n     <g id=\"line2d_18\">\n      <g>\n       <use style=\"stroke:#000000;stroke-width:0.8;\" x=\"42.828125\" xlink:href=\"#m38e198421f\" y=\"26.326739\"/>\n      </g>\n     </g>\n     <g id=\"text_18\">\n      <!-- 0.200 -->\n      <g transform=\"translate(7.2 30.125957)scale(0.1 -0.1)\">\n       <use xlink:href=\"#DejaVuSans-48\"/>\n       <use x=\"63.623047\" xlink:href=\"#DejaVuSans-46\"/>\n       <use x=\"95.410156\" xlink:href=\"#DejaVuSans-50\"/>\n       <use x=\"159.033203\" xlink:href=\"#DejaVuSans-48\"/>\n       <use x=\"222.65625\" xlink:href=\"#DejaVuSans-48\"/>\n      </g>\n     </g>\n    </g>\n   </g>\n   <g id=\"line2d_19\">\n    <path clip-path=\"url(#p9f29549f13)\" d=\"M 58.046307 224.618086 \nL 67.632563 224.538985 \nL 77.218819 224.203384 \nL 86.805076 223.859477 \nL 93.994768 223.947346 \nL 101.18446 224.126149 \nL 105.977588 223.977978 \nL 108.374152 223.737301 \nL 110.770716 223.347788 \nL 113.16728 222.785198 \nL 115.563844 222.032197 \nL 117.960408 221.081307 \nL 120.356973 219.936366 \nL 122.753537 218.611404 \nL 125.150101 217.126672 \nL 129.943229 213.754776 \nL 134.736357 209.900222 \nL 139.529485 205.512048 \nL 141.926049 203.084114 \nL 144.322613 200.479787 \nL 146.719177 197.679198 \nL 149.115741 194.656085 \nL 151.512305 191.379518 \nL 153.908869 187.821219 \nL 156.305434 183.966742 \nL 158.701998 179.825702 \nL 163.495126 170.852872 \nL 168.288254 161.335641 \nL 173.081382 151.429316 \nL 175.477946 146.209264 \nL 177.87451 140.697268 \nL 180.271074 134.821834 \nL 182.667638 128.552623 \nL 187.460766 114.956874 \nL 194.650459 93.073681 \nL 201.840151 71.186573 \nL 204.236715 64.305149 \nL 206.633279 57.870956 \nL 209.029843 52.050258 \nL 211.426407 46.982078 \nL 213.822971 42.744584 \nL 216.219535 39.332895 \nL 218.616099 36.655947 \nL 221.012663 34.554615 \nL 223.409227 32.83765 \nL 228.202355 29.903804 \nL 230.59892 28.537907 \nL 232.995484 27.303722 \nL 235.392048 26.369433 \nL 237.788612 25.969301 \nL 240.185176 26.364607 \nL 242.58174 27.8024 \nL 244.978304 30.479306 \nL 247.374868 34.514614 \nL 249.771432 39.93403 \nL 252.167996 46.664034 \nL 254.56456 54.536428 \nL 256.961124 63.302709 \nL 266.547381 100.996053 \nL 268.943945 109.602507 \nL 271.340509 117.487093 \nL 273.737073 124.593556 \nL 276.133637 130.948042 \nL 278.530201 136.646045 \nL 280.926765 141.831408 \nL 285.719893 151.31499 \nL 295.306149 169.52226 \nL 300.099277 178.09565 \nL 302.495842 182.03597 \nL 304.892406 185.711935 \nL 307.28897 189.139589 \nL 312.082098 195.398934 \nL 316.875226 201.075349 \nL 321.668354 206.242987 \nL 326.461482 210.884597 \nL 331.25461 215.000443 \nL 333.651174 216.842543 \nL 336.047738 218.512034 \nL 338.444303 219.981058 \nL 340.840867 221.226423 \nL 343.237431 222.237426 \nL 345.633995 223.019925 \nL 348.030559 223.595607 \nL 350.427123 223.997385 \nL 355.220251 224.429212 \nL 360.013379 224.581427 \nL 362.409943 224.608281 \nL 362.409943 224.608281 \n\" style=\"fill:none;stroke:#1f77b4;stroke-linecap:square;stroke-width:1.5;\"/>\n   </g>\n   <g id=\"patch_27\">\n    <path d=\"M 42.828125 224.64 \nL 42.828125 7.2 \n\" style=\"fill:none;stroke:#000000;stroke-linecap:square;stroke-linejoin:miter;stroke-width:0.8;\"/>\n   </g>\n   <g id=\"patch_28\">\n    <path d=\"M 377.628125 224.64 \nL 377.628125 7.2 \n\" style=\"fill:none;stroke:#000000;stroke-linecap:square;stroke-linejoin:miter;stroke-width:0.8;\"/>\n   </g>\n   <g id=\"patch_29\">\n    <path d=\"M 42.828125 224.64 \nL 377.628125 224.64 \n\" style=\"fill:none;stroke:#000000;stroke-linecap:square;stroke-linejoin:miter;stroke-width:0.8;\"/>\n   </g>\n   <g id=\"patch_30\">\n    <path d=\"M 42.828125 7.2 \nL 377.628125 7.2 \n\" style=\"fill:none;stroke:#000000;stroke-linecap:square;stroke-linejoin:miter;stroke-width:0.8;\"/>\n   </g>\n  </g>\n </g>\n <defs>\n  <clipPath id=\"p9f29549f13\">\n   <rect height=\"217.44\" width=\"334.8\" x=\"42.828125\" y=\"7.2\"/>\n  </clipPath>\n </defs>\n</svg>\n",
      "image/png": "[encoded data removed]"
     },
     "metadata": {
      "needs_background": "light"
     }
    }
   ],
   "source": [
    "sb.distplot(sx)"
   ]
  },
  {
   "cell_type": "markdown",
   "metadata": {},
   "source": [
    "### Gráficos utilizando Plotly"
   ]
  },
  {
   "cell_type": "code",
   "execution_count": 14,
   "metadata": {},
   "outputs": [
    {
     "output_type": "stream",
     "name": "stdout",
     "text": "Collecting plotly==4.6.0\n  Downloading plotly-4.6.0-py2.py3-none-any.whl (7.1 MB)\n\u001b[K     |████████████████████████████████| 7.1 MB 325 kB/s \n\u001b[?25hCollecting retrying>=1.3.3\n  Downloading retrying-1.3.3.tar.gz (10 kB)\nRequirement already satisfied: six in /home/gabrielsoares-dev/.local/lib/python3.7/site-packages (from plotly==4.6.0) (1.14.0)\nBuilding wheels for collected packages: retrying\n  Building wheel for retrying (setup.py) ... \u001b[?25ldone\n\u001b[?25h  Created wheel for retrying: filename=retrying-1.3.3-py3-none-any.whl size=11430 sha256=5abc99d42541de30c483a1531fc1b0fd74ec1e43b7d835b9927a0c4c9f7247d7\n  Stored in directory: /home/gabrielsoares-dev/.cache/pip/wheels/f9/8d/8d/f6af3f7f9eea3553bc2fe6d53e4b287dad18b06a861ac56ddf\nSuccessfully built retrying\nInstalling collected packages: retrying, plotly\nSuccessfully installed plotly-4.6.0 retrying-1.3.3\nNote: you may need to restart the kernel to use updated packages.\n"
    }
   ],
   "source": [
    "pip install plotly==4.6.0"
   ]
  },
  {
   "cell_type": "code",
   "execution_count": 18,
   "metadata": {},
   "outputs": [
    {
     "output_type": "display_data",
     "data": {
      "application/vnd.plotly.v1+json": {
       "config": {
        "plotlyServerURL": "https://plot.ly"
       },
       "data": [
        {
         "type": "scatter",
         "y": [
          4.114991346232908,
          4.324605384084213,
          3.351891128629182,
          5.669873828361534,
          5.804253042400475,
          6.931265434408236,
          4.270983291075324,
          7.172533760311701,
          5.2151446910701305,
          3.624853790485269,
          1.758431790408586,
          5.539003293751379,
          2.710746783066953,
          4.381705358582111,
          3.8712996033744878,
          3.7971692869439857,
          4.643064045687189,
          5.202387996411485,
          3.4920244147038817,
          7.777944617172906,
          6.834957138135511,
          7.3163361269416365,
          3.7550360700251932,
          2.048284465971039,
          6.718522942868798,
          8.5635362184491,
          4.862504383615602,
          3.7662938655322877,
          2.708414439227613,
          3.4028355988764063,
          6.067062994586484,
          3.572067114309588,
          4.43715967241824,
          5.128786220584198,
          6.210546105241783,
          4.901499214923541,
          5.727849582665053,
          6.475144012298835,
          6.601163608213775,
          3.1209595342118197,
          5.9470810049531915,
          7.086980656803476,
          2.5270757495690312,
          5.792980315305265,
          4.8074610872911965,
          1.640820173896326,
          4.493620793242496,
          3.452691407037023,
          3.1544509653260704,
          6.96790491320164,
          4.697651396107582,
          4.667188348001052,
          4.282997052262775,
          6.914491851906069,
          5.520316957359755,
          7.521901398354783,
          5.834323110361641,
          3.554507626136284,
          4.854171630983665,
          5.043440251576752,
          4.075451622182722,
          4.394249062318672,
          1.4672295859546,
          6.207496257743192,
          4.229892982489568,
          3.9926817540564548,
          4.143364723242328,
          6.1738841646461164,
          4.180497194644281,
          5.883940685062821,
          4.479987388581756,
          1.1094498269515807,
          6.338475001742313,
          5.999135590634699,
          4.015229177558279,
          2.403036899201376,
          3.8210668742150857,
          4.609675398604049,
          5.9098198581542265,
          4.464251552444175,
          4.970461430171702,
          9.493877189063042,
          4.841632256661793,
          6.224069756549122,
          4.1818490140656435,
          4.873766151617873,
          1.5636372726111865,
          3.009519631766074,
          6.342542890627266,
          6.1969139970629845,
          6.10916063347488,
          4.180580084305477,
          4.027418508227482,
          4.778217227415327,
          7.900427408057974,
          7.4562669873868295,
          5.44651910021098,
          5.932769093571428,
          4.775216007980968,
          1.1739073798189104,
          5.3915599691556055,
          1.5302804583639,
          3.8901755025217826,
          6.460592894802148,
          3.291781939448631,
          4.523096857534748,
          6.672344901674412,
          4.1169062986219025,
          6.7190361594073265,
          6.013954101659775,
          8.59467343466719,
          7.863838216495282,
          7.228911179650568,
          5.467323338904346,
          7.491039775863806,
          3.966567775723956,
          2.353166832159679,
          6.290806555252486,
          6.319334582960607,
          4.5664387631555465,
          7.353756323673593,
          4.536345306437579,
          3.925805500355801,
          6.330558173135298,
          3.083463153016548,
          9.063538812315194,
          5.811486860284067,
          3.1635095949306864,
          1.9892671919230045,
          4.054425952610088,
          0.7896141398542182,
          4.7815886943640695,
          4.844101731555455,
          1.9503164397223038,
          6.966182626447476,
          4.364740922194457,
          6.217226242639997,
          4.512866767301603,
          5.766410219324142,
          4.721955697168939,
          6.233174825163565,
          3.6426604770862383,
          6.4831394311853,
          5.46228862424307,
          2.613759019326455,
          4.86907979909115,
          1.3100035245628163,
          5.820628921736491,
          2.8666467119515304,
          2.2689317400595774,
          5.801944131665581,
          5.736406240799804,
          6.429572733841643,
          4.970376585870987,
          9.322861547762116,
          5.023820789884212,
          5.684215704600649,
          4.006629712485079,
          1.1138021902520512,
          4.438722337881661,
          7.280733145184777,
          3.0012872705845366,
          6.987525574288048,
          6.876375305374848,
          3.6173726007629803,
          1.2160599698988377,
          3.0407952943941026,
          6.402344753126467,
          4.630158275087801,
          5.973072166974745,
          4.5636645829111675,
          2.9644560552682058,
          5.14269302461261,
          1.7907661707127205,
          5.492369742622003,
          -1.9712416271422537,
          6.264445992900416,
          7.746300361773624,
          2.1305854194728133,
          7.951405824827341,
          5.901963263969604,
          5.343924930239362,
          6.129905663067004,
          5.664343553035543,
          4.745059192248108,
          6.096056064503357,
          4.862236775017275,
          5.886649539592381,
          3.7011642979383073,
          5.128568714576463,
          4.287386808463756,
          2.419618479342053,
          4.907877202252691,
          8.730640059852508,
          4.244820140641444,
          5.522991225718906,
          6.031470130458349,
          3.5731680119857083,
          5.436861562991892,
          9.664152052838176,
          5.071766964195298,
          4.679867485935289,
          5.771450316265789,
          4.588653249416273,
          4.003281244122782,
          5.63995339324396,
          4.32997385029859,
          4.577372487399305,
          7.70461041617136,
          5.053408321071944,
          4.415573850406162,
          4.57256010441436,
          8.093814767321001,
          6.5721552253895466,
          5.3800016939842426,
          6.862593212018497,
          6.394009739828961,
          3.197543225250132,
          4.525918737930079,
          6.0275863120505795,
          2.1099464847655116,
          3.883378889463962,
          6.581805996992862,
          5.656004760952403,
          5.048956219231561,
          5.796814685221447,
          5.322651842864195,
          7.860771247371559,
          2.6615911586307517,
          7.662217114723203,
          6.59947192504387,
          6.133801672576982,
          2.6638793025051952,
          6.532507218316783,
          4.3740933084808855,
          6.676606443417793,
          10.095003992112904,
          3.202129117853876,
          4.520741137951274,
          4.547774825181939,
          6.244325256689468,
          4.389011936554854,
          5.459331997681277,
          3.062716780874041,
          4.9101725435189,
          4.113710530117771,
          4.766923054654991,
          5.861766593875634,
          6.057923346285568,
          3.589676912618944,
          7.374036453583748,
          6.4735617498705,
          6.425888749926785,
          4.451357795716298,
          4.733991708951668,
          6.555028298030523,
          8.372413115650218,
          4.31208892111953,
          2.4953909750047543,
          2.946254489874651,
          2.029318917406016,
          8.350636492513136,
          7.514265073341203,
          0.9572189930034138,
          5.90344652825363,
          8.373939189102847,
          0.48864151866832994,
          3.6738092783184264,
          7.412984251192363,
          6.5979083837575025,
          5.9032188697838315,
          1.824399910191787,
          2.766408172445278,
          7.626451732178616,
          6.019523718315151,
          9.844349421014591,
          3.299903403201136,
          5.676415283220765,
          5.289137153121863,
          4.983752151654884,
          8.648082415557766,
          5.514032068812295,
          9.943979978884418,
          6.186797691430745,
          1.752159748270008,
          3.271826852479853,
          4.416255392508374,
          4.41362993333266,
          2.145093667846409,
          3.4410505794830084,
          3.1027356038577962,
          6.724126326376212,
          5.069327525145399,
          6.640390239870371,
          7.844020733030044,
          5.0450030833389405,
          2.2731633770834225,
          4.983268180932667,
          5.3843194017587,
          6.719720335324256,
          6.188390729254872,
          7.880863819747016,
          6.424905501340417,
          2.6405688614423664,
          6.047898456187996,
          1.4966286736986354,
          8.205200781923779,
          6.50956527036782,
          6.186403627627085,
          4.019116109396842,
          6.074753399856705,
          5.809961293246644,
          7.200079969538573,
          8.36295289133646,
          1.1153649815894413,
          7.258776309630418,
          5.630692750491649,
          9.312585678475298,
          9.20338452276534,
          5.008119658537478,
          2.31010140429248,
          3.638638215476746,
          6.96450540944393,
          5.952300687699894,
          2.0438201024896254,
          3.096781820401741,
          2.2970471716990795,
          4.828860501178024,
          5.940393904844748,
          6.381122317072762,
          4.438077697132686,
          5.889895670479808,
          3.1358688267584602,
          5.582312205000701,
          5.680699772908422,
          7.948303702311128,
          2.0071870230929605,
          5.881778602636957,
          2.9198350522837444,
          3.0550408735304257,
          7.624622526732617,
          7.890104109252647,
          5.45745108499343,
          7.948866749262528,
          5.3307195737741715,
          3.431526114073812,
          6.685639641907468,
          4.034129238081899,
          5.522191161878981,
          5.326971154838056,
          7.858256688542161,
          5.359131372879993,
          6.202156377372579,
          3.975084559163522,
          4.620366814300362,
          5.392449249153198,
          7.059248001555588,
          4.416738667463783,
          5.316053973500101,
          3.4968861429012543,
          7.841354030861175,
          7.027870567222012,
          4.378952203855688,
          5.3236702355639025,
          4.171148768811403,
          5.182943603828064,
          2.596738652855767,
          4.913865264136819,
          2.0846758262657503,
          5.318852709448557,
          8.282099420503002,
          4.23989181494133,
          3.719108150303758,
          7.3805222849773955,
          8.879532799498355,
          3.475863720097566,
          5.93766690007215,
          6.111904268520295,
          4.064132139745377,
          3.7725618617450247,
          7.8648799073999545,
          4.364197563680362,
          9.070247580734517,
          3.284175139034244,
          1.7929681846818135,
          4.153942356718305,
          4.752055019925353,
          4.151571887422157,
          3.904358023647696,
          8.025487885663683,
          5.925280786923036,
          4.304169452624387,
          6.162268115612569,
          0.7095959568409391,
          3.9355135856355132,
          0.8954573680649425,
          4.276078148675739,
          4.0550049625282885,
          5.13807838120089,
          6.7061834616693865,
          7.093949623085118,
          1.5913334701315884,
          3.2235708404442707,
          6.321992531640482,
          4.803593685491184,
          0.0014399477624138513,
          4.312701288309468,
          8.224789724445946,
          3.648931797214101,
          4.448698597748466,
          5.614384805348469,
          5.102929468593276,
          8.378188690020227,
          3.99254429810514,
          3.936867630470443,
          3.0039878965349622,
          5.76388588519461,
          5.74754204255711,
          3.8229272662697458,
          7.370642477401492,
          5.539209205912674,
          4.392573274155958,
          5.469922868677584,
          3.0145905493101655,
          3.216097136556547,
          5.377414779327911,
          5.818753096498826,
          6.681348890355562,
          4.403180018353737,
          3.827542789497861,
          5.976502982269086,
          2.7379074914176007,
          0.3889218039409199,
          2.9328478069406265,
          6.02749487962125,
          3.8014713996665694,
          4.849311370294112,
          6.186050134610805,
          4.715243746742173,
          6.234925800270343,
          3.0194804751108526,
          4.300061636512717,
          4.447091128270257,
          3.36822209084336,
          3.901829974896849,
          5.593043979890971,
          5.37407190264872,
          3.9910759208825737,
          5.218257444490776,
          7.4712009490285975,
          2.0110693854387884,
          6.980964206712521,
          5.332153126764366,
          6.905545272681641,
          3.4376390816706266,
          7.620771953101112,
          2.4865570504665846,
          4.646352273663363,
          6.541326957258517,
          4.920807014989694,
          3.780050970127351,
          8.985138050682831,
          1.964526891150403,
          8.099393541668963,
          4.816833073884207,
          8.20976070807031,
          5.02355063266378,
          6.379800435367139,
          7.027581026615689,
          5.551687200811522,
          4.087082217679426,
          6.125427328508847,
          7.263559312672881,
          6.127653417217461,
          5.104970343095505,
          7.489100396008488,
          2.878803670923942,
          3.3175880563149915,
          3.8417938497424973,
          4.290572974968457,
          2.6258892158584946,
          7.136671412955352,
          2.2502004934361257,
          2.5485824077664363,
          2.1752811734098283,
          3.5180998688245513,
          8.827539819121968,
          2.88090006507418,
          2.4036433834567554,
          7.867030837508847,
          6.258061094708872,
          5.408735765255681,
          8.595026211145047,
          3.9385701849871584,
          2.5658283346855923,
          4.3063365448867215,
          4.170547942637512,
          7.7443668916157815,
          5.362025108364962,
          3.698482260262384,
          7.980134500623995,
          6.190407428809367,
          3.9215876068810367,
          4.002135309521796,
          5.202022707842474,
          3.5397415676216992,
          6.96343558228006,
          3.3050326451633008,
          7.129360945998755,
          4.157856866090418,
          5.115493794798747,
          3.5839216673658996,
          2.1792029270013997,
          9.217871481686867,
          4.0676344835233875,
          5.484549251455399,
          6.201789490576841,
          1.0372258703807673,
          7.017278620863388,
          3.6194926008790915,
          2.330463197478195,
          1.2309312152621232,
          5.058826731067149,
          7.097828184178124,
          5.511336642344981,
          7.419769722585233,
          6.334560418948525,
          3.936335405475206,
          6.812070657614349,
          1.6692949634414513,
          5.464588989960003,
          0.2888372677946407,
          7.815338880074922,
          7.181714171200355,
          4.318838084076935,
          6.78762552653615,
          8.60497385080565,
          7.141683565074219,
          3.8355243944349193,
          5.288917019769429,
          4.853081003354395,
          5.743594283426897,
          7.282785404732065,
          5.481931323241398,
          6.540325051414233,
          5.776724733482764,
          0.7752607493731674,
          5.3586421253155185,
          3.166791771855387,
          6.630208175817079,
          4.06697741703606,
          6.082780649087093,
          2.5649116851874,
          7.790238474605099,
          4.30474075514568,
          3.8421325983215557,
          5.767994706494573,
          5.401163086085594,
          4.745475630310665,
          6.533905508492905,
          1.5755423125149481,
          7.745101453872476,
          5.335707286794114,
          1.9582238346218577,
          3.2785715806656484,
          0.8896357583969294,
          5.613465458363297,
          5.035832050982147,
          5.826444715713217,
          5.305262592662185,
          4.201843114342898,
          2.9645571552964802,
          4.50728543672593,
          1.6757759399867678,
          4.573914319242552,
          2.3578898198139404,
          3.912344281488,
          5.001496586708136,
          4.108237958549737,
          5.177339270364703,
          7.123533204384444,
          3.9120911532094933,
          3.9909202906606476,
          7.279948196634434,
          6.605483165972742,
          4.0241176337185065,
          5.983377051700685,
          4.459261693668778,
          5.263678861407435,
          2.9098705009670103,
          6.937965656966089,
          5.27501511187956,
          6.42261149933058,
          4.239003817517611,
          6.0683082676221085,
          3.2998338466405936,
          6.473747649911571,
          5.935113969249277,
          6.341790111776253,
          3.50305193375355,
          3.86664869764484,
          6.277994705544358,
          4.8575661573393925,
          5.337345958842869,
          7.061571051363143,
          3.1035062601888908,
          3.6105042603732365,
          3.3607302870477533,
          6.1465984406421885,
          5.216665107522757,
          4.142785431750562,
          4.953150847171279,
          3.967920294796695,
          5.861959174879872,
          1.845252937282471,
          5.19768889705749,
          3.4170549714306397,
          8.049820659767725,
          9.201401813257796,
          1.5265535103029495,
          5.2603065889480485,
          4.450721210458731,
          6.886598559094168,
          4.405758561798357,
          6.3082637737000296,
          8.000413304652783,
          6.407832314772553,
          7.5230589147868825,
          1.0940966491745527,
          8.647125765085459,
          5.59421318623958,
          6.155323830174693,
          5.755888716683747,
          4.3747967734515285,
          3.746433144961788,
          7.897088757598193,
          2.4237214769079527,
          8.442971103248881,
          7.41732607843768,
          3.2977149268420227,
          5.946299671661832,
          7.958168744416499,
          5.477744080883997,
          5.163444289351386,
          5.354020565982267,
          4.49210836416574,
          6.945635769254586,
          8.836054969591146,
          5.8694534012824535,
          6.792419438539025,
          6.419732645425892,
          1.9809593504680802,
          4.47435671921666,
          4.908290423742816,
          3.959117508077493,
          -0.11572448461822393,
          4.812205383182198,
          3.9964669754763964,
          1.5744661096633195,
          4.988908748776039,
          2.7299897309785663,
          2.132005427332941,
          4.809048351647708,
          3.4730954697346412,
          5.7295793999951385,
          7.01889750089405,
          6.272661257419853,
          5.207991817644346,
          2.4872357804950176,
          4.856129938948282,
          2.034228790467921,
          4.695647417837466,
          7.72100164293417,
          3.37118730919169,
          5.308202216484774,
          1.8677843348208656,
          7.207867137282182,
          3.1163312389233493,
          5.671955384539593,
          6.7453078181742345,
          5.5224286202440656,
          3.841972032887038,
          6.350011028440298,
          6.280067504008488,
          9.789677566226771,
          3.7499196479391186,
          5.788731291919685,
          1.8214686415532984,
          5.580181517336501,
          5.428318927043254,
          7.392395701821048,
          9.88048024655301,
          3.456881566381713,
          2.3467010041489713,
          6.614973525926414,
          7.733799654494907,
          10.024431791922824,
          4.223005753718605,
          3.9923253275515127,
          5.724538230897599,
          4.196479210671347,
          3.0540823629833893,
          3.4011664235476644,
          4.850775981098617,
          4.658019722642602,
          5.032032646623892,
          2.9929302120368133,
          1.0274517884509158,
          6.588239336769906,
          3.746197355532294,
          4.688917873584149,
          5.1519735470054995,
          7.523206215720714,
          2.548310975474612,
          6.488288760912798,
          5.932890268215246,
          7.758735376639269,
          5.270512524405656,
          5.995134976081239,
          4.275132286823547,
          6.193765153499576,
          5.359356364885338,
          2.5571328431558045,
          4.6950826679961235,
          2.269156178780483,
          7.126228941229952,
          4.034350256773724,
          8.74781849775589,
          3.0546281700637135,
          6.886865498879292,
          4.151789707329213,
          0.8549699200305287,
          2.29478985697433,
          4.991310317326897,
          6.136671338744467,
          2.1420032879365634,
          2.9975284787376535,
          6.189119710642272,
          5.185176773865607,
          5.345592050689045,
          3.6197010379086247,
          5.174901873437715,
          5.706445789258962,
          6.537271313148783,
          6.084456667283918,
          0.22845135570867559,
          3.3193626904189553,
          6.56808349541294,
          8.226413341831778,
          1.6244873527381158,
          0.1660117898092679,
          4.875516074048758,
          6.61697419432424,
          3.75615967183714,
          8.354038227137805,
          3.6854677302228867,
          3.9355757226484567,
          2.664512934213144,
          4.846093428251305,
          6.611555130696797,
          2.7538727920428743,
          7.054920413000888,
          5.267231743771416,
          6.444459687189626,
          5.161592746505297,
          1.456436606655422,
          5.823246747496739,
          8.987681621728749,
          5.112764435103429,
          4.9316812614996115,
          5.327824854433098,
          4.616650123829042,
          2.1339381572838056,
          3.908137069689241,
          4.7218426214119535,
          2.743728376468055,
          4.096845840685012,
          5.718087950860198,
          8.426093390914225,
          3.298119294846768,
          6.391682985784742,
          4.7802686564197145,
          3.0178572814817657,
          2.2254174313324753,
          1.5369581351551371,
          6.550369962522179,
          8.105737684376273,
          2.812348948517232,
          5.793499540119505,
          5.518169759475801,
          5.775856309761171,
          1.6545596999670398,
          3.344629438267444,
          9.249124807194507,
          4.4279383495298,
          6.534879848104559,
          5.841693390017555,
          4.578851413454873,
          1.9989789479200866,
          3.993374988123974,
          1.6786474590073963,
          5.679117630250425,
          3.1616092628418406,
          3.1215255852656516,
          4.554811335621614,
          9.190860649348243,
          5.162136886738292,
          2.8022146442351112,
          5.788308599947618,
          3.176242205636548,
          6.521312591650497,
          7.59880440774405,
          5.251783426612581,
          7.968961613097712,
          8.071505208045629,
          8.54014570260679,
          5.821858220724504,
          6.442987665739832,
          0.6299767748991254,
          4.096840705419748,
          5.635204341959427,
          2.631889542010359,
          2.336191405533282,
          8.301947158260766,
          3.6124970362199544,
          8.244526085896991,
          2.8293832913635066,
          4.781025009372873,
          4.993944078633343,
          3.2997566855776324,
          4.215356434197462,
          -0.21373235332175788,
          5.360272738261009,
          6.2787409783126735,
          4.669533242901183,
          1.8690745707379213,
          4.998184974819902,
          4.50205563068267,
          4.6232575244984595,
          5.534311304354177,
          3.371082019626215,
          4.46152420408928,
          5.543150087967992,
          2.959587168524292,
          5.880260638335786,
          6.079004677956582,
          4.830423205788572,
          5.685082053544898,
          5.485768665701406,
          5.228682132328532,
          5.425554973639547,
          0.8806265076716722,
          5.947518356961053,
          3.363548432459927,
          5.259533679421412,
          7.2205108499469155,
          3.5682622492166414,
          1.1093174709763676,
          5.039035353364064,
          4.865766102583686,
          9.048191997286555,
          2.18811942214308,
          0.389223359680706,
          6.127108783435633,
          2.810737849458122,
          8.48266060362452,
          9.011930572488584,
          4.383949338347877,
          5.889484452737145,
          5.393403547438934,
          5.963283830871301,
          7.544363617781654,
          3.340098052064123,
          5.219039274514047,
          4.9545076343901835,
          5.671027535874852,
          4.567118440096517,
          9.69174795039184,
          4.524308097621728,
          4.176342293457136,
          7.580379330026359,
          3.929125953252376,
          5.561300908520733,
          5.475405310830561,
          5.189154825617002,
          6.324600176422754,
          4.069996065360309,
          3.6450901415756904,
          8.226962099526403,
          9.150002329177859,
          3.703748061634564,
          6.949910421292954,
          2.380611354878093,
          5.7775446368703784,
          5.418312441920229,
          2.9543472657748056,
          4.369991892210953,
          6.034746140374775,
          6.923683847767327,
          3.3814771274041133,
          4.163927969025588,
          6.473304943156702,
          3.5287274849760277,
          4.313508723444408,
          3.6890788184588863,
          5.5738317571054905,
          6.604792078354717,
          4.520941488337826,
          3.8731668541285353,
          6.595985624614121,
          4.688597743500277,
          6.421005798257866,
          3.78855133663001,
          4.671676833886971,
          6.83377135003403,
          7.13515637229769,
          3.1141806058571415,
          8.556272997784053,
          7.672180603459227,
          5.32994222614296,
          6.934773080363417,
          4.775614934319001,
          2.7813678199900496,
          5.643772563128883,
          4.673513108917984,
          4.708073370748701,
          3.792108389984011,
          6.0862711156997,
          3.2460296555862476,
          3.009629994909661,
          4.159326723494775,
          5.844120181549988,
          6.892170728210788,
          6.811865529872401,
          4.514830770020142,
          2.20776965972158,
          5.6957076765468715,
          6.201721932190408,
          1.1262251674526955,
          4.716155050347514,
          5.332453634439703,
          3.658416313930603,
          5.334084247366667,
          5.547997876284743,
          3.5796954540140167,
          7.323950048445338,
          5.069448242184088,
          7.433184557777456,
          2.9451235273956384,
          2.74651997077445,
          5.22167427290879,
          6.040729497062627,
          4.521169301158633,
          5.182766071190508,
          6.462832422065634,
          6.726034753333945,
          5.970527602405477,
          7.39950512934767,
          2.9122112089192203,
          8.128536446751083,
          6.105244296661129,
          8.976199293733176,
          0.26481169256346426,
          3.1167522817061464,
          5.771138802904774,
          4.047012968161685,
          7.140177454590952,
          3.580144156206046,
          3.8560006852535986,
          5.447549380532049,
          5.542400380727861,
          4.93266694712631,
          3.5431883365867387,
          8.876574828643369,
          5.837608478386981,
          2.89348096160981,
          2.270204839208395,
          6.3115265629744615,
          4.368756119966168,
          3.6676178990125976,
          3.1663747931734156,
          6.357735759860681,
          9.73226752229203,
          3.4183501083636374,
          5.795954987820806,
          6.657311292172933,
          7.9472105902173125,
          9.02886273071775,
          6.8204038606002975,
          7.229463616659096,
          4.473244974804741,
          2.8417199827493054,
          4.511813990584412,
          3.202596118428964,
          3.9522046824621024,
          6.010380012433021,
          5.673441575475407,
          7.732483962936763,
          3.5863708632846927,
          4.927582611988692
         ]
        }
       ],
       "layout": {
        "template": {
         "data": {
          "bar": [
           {
            "error_x": {
             "color": "#2a3f5f"
            },
            "error_y": {
             "color": "#2a3f5f"
            },
            "marker": {
             "line": {
              "color": "#E5ECF6",
              "width": 0.5
             }
            },
            "type": "bar"
           }
          ],
          "barpolar": [
           {
            "marker": {
             "line": {
              "color": "#E5ECF6",
              "width": 0.5
             }
            },
            "type": "barpolar"
           }
          ],
          "carpet": [
           {
            "aaxis": {
             "endlinecolor": "#2a3f5f",
             "gridcolor": "white",
             "linecolor": "white",
             "minorgridcolor": "white",
             "startlinecolor": "#2a3f5f"
            },
            "baxis": {
             "endlinecolor": "#2a3f5f",
             "gridcolor": "white",
             "linecolor": "white",
             "minorgridcolor": "white",
             "startlinecolor": "#2a3f5f"
            },
            "type": "carpet"
           }
          ],
          "choropleth": [
           {
            "colorbar": {
             "outlinewidth": 0,
             "ticks": ""
            },
            "type": "choropleth"
           }
          ],
          "contour": [
           {
            "colorbar": {
             "outlinewidth": 0,
             "ticks": ""
            },
            "colorscale": [
             [
              0,
              "#0d0887"
             ],
             [
              0.1111111111111111,
              "#46039f"
             ],
             [
              0.2222222222222222,
              "#7201a8"
             ],
             [
              0.3333333333333333,
              "#9c179e"
             ],
             [
              0.4444444444444444,
              "#bd3786"
             ],
             [
              0.5555555555555556,
              "#d8576b"
             ],
             [
              0.6666666666666666,
              "#ed7953"
             ],
             [
              0.7777777777777778,
              "#fb9f3a"
             ],
             [
              0.8888888888888888,
              "#fdca26"
             ],
             [
              1,
              "#f0f921"
             ]
            ],
            "type": "contour"
           }
          ],
          "contourcarpet": [
           {
            "colorbar": {
             "outlinewidth": 0,
             "ticks": ""
            },
            "type": "contourcarpet"
           }
          ],
          "heatmap": [
           {
            "colorbar": {
             "outlinewidth": 0,
             "ticks": ""
            },
            "colorscale": [
             [
              0,
              "#0d0887"
             ],
             [
              0.1111111111111111,
              "#46039f"
             ],
             [
              0.2222222222222222,
              "#7201a8"
             ],
             [
              0.3333333333333333,
              "#9c179e"
             ],
             [
              0.4444444444444444,
              "#bd3786"
             ],
             [
              0.5555555555555556,
              "#d8576b"
             ],
             [
              0.6666666666666666,
              "#ed7953"
             ],
             [
              0.7777777777777778,
              "#fb9f3a"
             ],
             [
              0.8888888888888888,
              "#fdca26"
             ],
             [
              1,
              "#f0f921"
             ]
            ],
            "type": "heatmap"
           }
          ],
          "heatmapgl": [
           {
            "colorbar": {
             "outlinewidth": 0,
             "ticks": ""
            },
            "colorscale": [
             [
              0,
              "#0d0887"
             ],
             [
              0.1111111111111111,
              "#46039f"
             ],
             [
              0.2222222222222222,
              "#7201a8"
             ],
             [
              0.3333333333333333,
              "#9c179e"
             ],
             [
              0.4444444444444444,
              "#bd3786"
             ],
             [
              0.5555555555555556,
              "#d8576b"
             ],
             [
              0.6666666666666666,
              "#ed7953"
             ],
             [
              0.7777777777777778,
              "#fb9f3a"
             ],
             [
              0.8888888888888888,
              "#fdca26"
             ],
             [
              1,
              "#f0f921"
             ]
            ],
            "type": "heatmapgl"
           }
          ],
          "histogram": [
           {
            "marker": {
             "colorbar": {
              "outlinewidth": 0,
              "ticks": ""
             }
            },
            "type": "histogram"
           }
          ],
          "histogram2d": [
           {
            "colorbar": {
             "outlinewidth": 0,
             "ticks": ""
            },
            "colorscale": [
             [
              0,
              "#0d0887"
             ],
             [
              0.1111111111111111,
              "#46039f"
             ],
             [
              0.2222222222222222,
              "#7201a8"
             ],
             [
              0.3333333333333333,
              "#9c179e"
             ],
             [
              0.4444444444444444,
              "#bd3786"
             ],
             [
              0.5555555555555556,
              "#d8576b"
             ],
             [
              0.6666666666666666,
              "#ed7953"
             ],
             [
              0.7777777777777778,
              "#fb9f3a"
             ],
             [
              0.8888888888888888,
              "#fdca26"
             ],
             [
              1,
              "#f0f921"
             ]
            ],
            "type": "histogram2d"
           }
          ],
          "histogram2dcontour": [
           {
            "colorbar": {
             "outlinewidth": 0,
             "ticks": ""
            },
            "colorscale": [
             [
              0,
              "#0d0887"
             ],
             [
              0.1111111111111111,
              "#46039f"
             ],
             [
              0.2222222222222222,
              "#7201a8"
             ],
             [
              0.3333333333333333,
              "#9c179e"
             ],
             [
              0.4444444444444444,
              "#bd3786"
             ],
             [
              0.5555555555555556,
              "#d8576b"
             ],
             [
              0.6666666666666666,
              "#ed7953"
             ],
             [
              0.7777777777777778,
              "#fb9f3a"
             ],
             [
              0.8888888888888888,
              "#fdca26"
             ],
             [
              1,
              "#f0f921"
             ]
            ],
            "type": "histogram2dcontour"
           }
          ],
          "mesh3d": [
           {
            "colorbar": {
             "outlinewidth": 0,
             "ticks": ""
            },
            "type": "mesh3d"
           }
          ],
          "parcoords": [
           {
            "line": {
             "colorbar": {
              "outlinewidth": 0,
              "ticks": ""
             }
            },
            "type": "parcoords"
           }
          ],
          "pie": [
           {
            "automargin": true,
            "type": "pie"
           }
          ],
          "scatter": [
           {
            "marker": {
             "colorbar": {
              "outlinewidth": 0,
              "ticks": ""
             }
            },
            "type": "scatter"
           }
          ],
          "scatter3d": [
           {
            "line": {
             "colorbar": {
              "outlinewidth": 0,
              "ticks": ""
             }
            },
            "marker": {
             "colorbar": {
              "outlinewidth": 0,
              "ticks": ""
             }
            },
            "type": "scatter3d"
           }
          ],
          "scattercarpet": [
           {
            "marker": {
             "colorbar": {
              "outlinewidth": 0,
              "ticks": ""
             }
            },
            "type": "scattercarpet"
           }
          ],
          "scattergeo": [
           {
            "marker": {
             "colorbar": {
              "outlinewidth": 0,
              "ticks": ""
             }
            },
            "type": "scattergeo"
           }
          ],
          "scattergl": [
           {
            "marker": {
             "colorbar": {
              "outlinewidth": 0,
              "ticks": ""
             }
            },
            "type": "scattergl"
           }
          ],
          "scattermapbox": [
           {
            "marker": {
             "colorbar": {
              "outlinewidth": 0,
              "ticks": ""
             }
            },
            "type": "scattermapbox"
           }
          ],
          "scatterpolar": [
           {
            "marker": {
             "colorbar": {
              "outlinewidth": 0,
              "ticks": ""
             }
            },
            "type": "scatterpolar"
           }
          ],
          "scatterpolargl": [
           {
            "marker": {
             "colorbar": {
              "outlinewidth": 0,
              "ticks": ""
             }
            },
            "type": "scatterpolargl"
           }
          ],
          "scatterternary": [
           {
            "marker": {
             "colorbar": {
              "outlinewidth": 0,
              "ticks": ""
             }
            },
            "type": "scatterternary"
           }
          ],
          "surface": [
           {
            "colorbar": {
             "outlinewidth": 0,
             "ticks": ""
            },
            "colorscale": [
             [
              0,
              "#0d0887"
             ],
             [
              0.1111111111111111,
              "#46039f"
             ],
             [
              0.2222222222222222,
              "#7201a8"
             ],
             [
              0.3333333333333333,
              "#9c179e"
             ],
             [
              0.4444444444444444,
              "#bd3786"
             ],
             [
              0.5555555555555556,
              "#d8576b"
             ],
             [
              0.6666666666666666,
              "#ed7953"
             ],
             [
              0.7777777777777778,
              "#fb9f3a"
             ],
             [
              0.8888888888888888,
              "#fdca26"
             ],
             [
              1,
              "#f0f921"
             ]
            ],
            "type": "surface"
           }
          ],
          "table": [
           {
            "cells": {
             "fill": {
              "color": "#EBF0F8"
             },
             "line": {
              "color": "white"
             }
            },
            "header": {
             "fill": {
              "color": "#C8D4E3"
             },
             "line": {
              "color": "white"
             }
            },
            "type": "table"
           }
          ]
         },
         "layout": {
          "annotationdefaults": {
           "arrowcolor": "#2a3f5f",
           "arrowhead": 0,
           "arrowwidth": 1
          },
          "coloraxis": {
           "colorbar": {
            "outlinewidth": 0,
            "ticks": ""
           }
          },
          "colorscale": {
           "diverging": [
            [
             0,
             "#8e0152"
            ],
            [
             0.1,
             "#c51b7d"
            ],
            [
             0.2,
             "#de77ae"
            ],
            [
             0.3,
             "#f1b6da"
            ],
            [
             0.4,
             "#fde0ef"
            ],
            [
             0.5,
             "#f7f7f7"
            ],
            [
             0.6,
             "#e6f5d0"
            ],
            [
             0.7,
             "#b8e186"
            ],
            [
             0.8,
             "#7fbc41"
            ],
            [
             0.9,
             "#4d9221"
            ],
            [
             1,
             "#276419"
            ]
           ],
           "sequential": [
            [
             0,
             "#0d0887"
            ],
            [
             0.1111111111111111,
             "#46039f"
            ],
            [
             0.2222222222222222,
             "#7201a8"
            ],
            [
             0.3333333333333333,
             "#9c179e"
            ],
            [
             0.4444444444444444,
             "#bd3786"
            ],
            [
             0.5555555555555556,
             "#d8576b"
            ],
            [
             0.6666666666666666,
             "#ed7953"
            ],
            [
             0.7777777777777778,
             "#fb9f3a"
            ],
            [
             0.8888888888888888,
             "#fdca26"
            ],
            [
             1,
             "#f0f921"
            ]
           ],
           "sequentialminus": [
            [
             0,
             "#0d0887"
            ],
            [
             0.1111111111111111,
             "#46039f"
            ],
            [
             0.2222222222222222,
             "#7201a8"
            ],
            [
             0.3333333333333333,
             "#9c179e"
            ],
            [
             0.4444444444444444,
             "#bd3786"
            ],
            [
             0.5555555555555556,
             "#d8576b"
            ],
            [
             0.6666666666666666,
             "#ed7953"
            ],
            [
             0.7777777777777778,
             "#fb9f3a"
            ],
            [
             0.8888888888888888,
             "#fdca26"
            ],
            [
             1,
             "#f0f921"
            ]
           ]
          },
          "colorway": [
           "#636efa",
           "#EF553B",
           "#00cc96",
           "#ab63fa",
           "#FFA15A",
           "#19d3f3",
           "#FF6692",
           "#B6E880",
           "#FF97FF",
           "#FECB52"
          ],
          "font": {
           "color": "#2a3f5f"
          },
          "geo": {
           "bgcolor": "white",
           "lakecolor": "white",
           "landcolor": "#E5ECF6",
           "showlakes": true,
           "showland": true,
           "subunitcolor": "white"
          },
          "hoverlabel": {
           "align": "left"
          },
          "hovermode": "closest",
          "mapbox": {
           "style": "light"
          },
          "paper_bgcolor": "white",
          "plot_bgcolor": "#E5ECF6",
          "polar": {
           "angularaxis": {
            "gridcolor": "white",
            "linecolor": "white",
            "ticks": ""
           },
           "bgcolor": "#E5ECF6",
           "radialaxis": {
            "gridcolor": "white",
            "linecolor": "white",
            "ticks": ""
           }
          },
          "scene": {
           "xaxis": {
            "backgroundcolor": "#E5ECF6",
            "gridcolor": "white",
            "gridwidth": 2,
            "linecolor": "white",
            "showbackground": true,
            "ticks": "",
            "zerolinecolor": "white"
           },
           "yaxis": {
            "backgroundcolor": "#E5ECF6",
            "gridcolor": "white",
            "gridwidth": 2,
            "linecolor": "white",
            "showbackground": true,
            "ticks": "",
            "zerolinecolor": "white"
           },
           "zaxis": {
            "backgroundcolor": "#E5ECF6",
            "gridcolor": "white",
            "gridwidth": 2,
            "linecolor": "white",
            "showbackground": true,
            "ticks": "",
            "zerolinecolor": "white"
           }
          },
          "shapedefaults": {
           "line": {
            "color": "#2a3f5f"
           }
          },
          "ternary": {
           "aaxis": {
            "gridcolor": "white",
            "linecolor": "white",
            "ticks": ""
           },
           "baxis": {
            "gridcolor": "white",
            "linecolor": "white",
            "ticks": ""
           },
           "bgcolor": "#E5ECF6",
           "caxis": {
            "gridcolor": "white",
            "linecolor": "white",
            "ticks": ""
           }
          },
          "title": {
           "x": 0.05
          },
          "xaxis": {
           "automargin": true,
           "gridcolor": "white",
           "linecolor": "white",
           "ticks": "",
           "title": {
            "standoff": 15
           },
           "zerolinecolor": "white",
           "zerolinewidth": 2
          },
          "yaxis": {
           "automargin": true,
           "gridcolor": "white",
           "linecolor": "white",
           "ticks": "",
           "title": {
            "standoff": 15
           },
           "zerolinecolor": "white",
           "zerolinewidth": 2
          }
         }
        },
        "title": {
         "text": "Hello Plotly"
        }
       }
      }
     },
     "metadata": {}
    }
   ],
   "source": [
    "import plotly.graph_objects as go\n",
    "fig = go.Figure()\n",
    "fig.add_trace(go.Scatter(y=sx))\n",
    "fig.update_layout(title='Hello Plotly')\n",
    "fig.show()"
   ]
  },
  {
   "cell_type": "code",
   "execution_count": null,
   "metadata": {},
   "outputs": [],
   "source": []
  }
 ]
}