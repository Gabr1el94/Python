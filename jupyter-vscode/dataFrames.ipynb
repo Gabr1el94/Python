{
 "cells": [
  {
   "cell_type": "markdown",
   "metadata": {},
   "source": [
    "# DATAFRAMES\n",
    "\n",
    "- É simplesmente um conjunto de séries, cujo possui estrutura de dados de 2 dimensões(colunas e linhas) em que resulta em tabela semelhando ao array em bidimensional,porém com menos código."
   ]
  },
  {
   "cell_type": "code",
   "execution_count": 38,
   "metadata": {},
   "outputs": [
    {
     "output_type": "error",
     "ename": "AttributeError",
     "evalue": "module 'numpy.random' has no attribute 'send'",
     "traceback": [
      "\u001b[0;31m---------------------------------------------------------------------------\u001b[0m",
      "\u001b[0;31mAttributeError\u001b[0m                            Traceback (most recent call last)",
      "\u001b[0;32m<ipython-input-38-00ef468e3709>\u001b[0m in \u001b[0;36m<module>\u001b[0;34m\u001b[0m\n\u001b[1;32m      1\u001b[0m \u001b[0;32mimport\u001b[0m \u001b[0mpandas\u001b[0m \u001b[0;32mas\u001b[0m \u001b[0mpd\u001b[0m\u001b[0;34m\u001b[0m\u001b[0;34m\u001b[0m\u001b[0m\n\u001b[1;32m      2\u001b[0m \u001b[0;32mimport\u001b[0m \u001b[0mnumpy\u001b[0m \u001b[0;32mas\u001b[0m \u001b[0mnp\u001b[0m\u001b[0;34m\u001b[0m\u001b[0;34m\u001b[0m\u001b[0m\n\u001b[0;32m----> 3\u001b[0;31m \u001b[0mnp\u001b[0m\u001b[0;34m.\u001b[0m\u001b[0mrandom\u001b[0m\u001b[0;34m.\u001b[0m\u001b[0msend\u001b[0m\u001b[0;34m(\u001b[0m\u001b[0;36m100\u001b[0m\u001b[0;34m)\u001b[0m\u001b[0;34m\u001b[0m\u001b[0;34m\u001b[0m\u001b[0m\n\u001b[0m",
      "\u001b[0;31mAttributeError\u001b[0m: module 'numpy.random' has no attribute 'send'"
     ]
    }
   ],
   "source": [
    "import pandas as pd \n",
    "import numpy as n"
   ]
  },
  {
   "cell_type": "code",
   "execution_count": 23,
   "metadata": {},
   "outputs": [],
   "source": [
    "#Criação de DataFrames a partir de um array \n",
    "arr = np.random.randint(10,55,size=(4,4))"
   ]
  },
  {
   "cell_type": "code",
   "execution_count": 24,
   "metadata": {},
   "outputs": [
    {
     "output_type": "execute_result",
     "data": {
      "text/plain": "array([[49, 28, 33, 31],\n       [28, 32, 33, 45],\n       [14, 26, 36, 21],\n       [20, 10, 37, 49]])"
     },
     "metadata": {},
     "execution_count": 24
    }
   ],
   "source": [
    "arr"
   ]
  },
  {
   "cell_type": "code",
   "execution_count": 25,
   "metadata": {},
   "outputs": [],
   "source": [
    "df1 = pd.DataFrame(arr,index=['a','b','c','d'],columns=['e','f','g','h'])"
   ]
  },
  {
   "cell_type": "code",
   "execution_count": 26,
   "metadata": {},
   "outputs": [
    {
     "output_type": "execute_result",
     "data": {
      "text/plain": "    e   f   g   h\na  49  28  33  31\nb  28  32  33  45\nc  14  26  36  21\nd  20  10  37  49",
      "text/html": "<div>\n<style scoped>\n    .dataframe tbody tr th:only-of-type {\n        vertical-align: middle;\n    }\n\n    .dataframe tbody tr th {\n        vertical-align: top;\n    }\n\n    .dataframe thead th {\n        text-align: right;\n    }\n</style>\n<table border=\"1\" class=\"dataframe\">\n  <thead>\n    <tr style=\"text-align: right;\">\n      <th></th>\n      <th>e</th>\n      <th>f</th>\n      <th>g</th>\n      <th>h</th>\n    </tr>\n  </thead>\n  <tbody>\n    <tr>\n      <th>a</th>\n      <td>49</td>\n      <td>28</td>\n      <td>33</td>\n      <td>31</td>\n    </tr>\n    <tr>\n      <th>b</th>\n      <td>28</td>\n      <td>32</td>\n      <td>33</td>\n      <td>45</td>\n    </tr>\n    <tr>\n      <th>c</th>\n      <td>14</td>\n      <td>26</td>\n      <td>36</td>\n      <td>21</td>\n    </tr>\n    <tr>\n      <th>d</th>\n      <td>20</td>\n      <td>10</td>\n      <td>37</td>\n      <td>49</td>\n    </tr>\n  </tbody>\n</table>\n</div>"
     },
     "metadata": {},
     "execution_count": 26
    }
   ],
   "source": [
    "df1"
   ]
  },
  {
   "cell_type": "code",
   "execution_count": 27,
   "metadata": {},
   "outputs": [],
   "source": [
    "#Criação de Dataframes a partir de listas\n",
    "lista = [[10,20,30,40,50],[60,70,80,90,100],[110,120,130,140,150]]"
   ]
  },
  {
   "cell_type": "code",
   "execution_count": 28,
   "metadata": {},
   "outputs": [],
   "source": [
    "df2 = pd.DataFrame(data=lista,index=['A','B','C'],columns=['V','W','X','Y','Z'])"
   ]
  },
  {
   "cell_type": "code",
   "execution_count": 29,
   "metadata": {},
   "outputs": [
    {
     "output_type": "execute_result",
     "data": {
      "text/plain": "     V    W    X    Y    Z\nA   10   20   30   40   50\nB   60   70   80   90  100\nC  110  120  130  140  150",
      "text/html": "<div>\n<style scoped>\n    .dataframe tbody tr th:only-of-type {\n        vertical-align: middle;\n    }\n\n    .dataframe tbody tr th {\n        vertical-align: top;\n    }\n\n    .dataframe thead th {\n        text-align: right;\n    }\n</style>\n<table border=\"1\" class=\"dataframe\">\n  <thead>\n    <tr style=\"text-align: right;\">\n      <th></th>\n      <th>V</th>\n      <th>W</th>\n      <th>X</th>\n      <th>Y</th>\n      <th>Z</th>\n    </tr>\n  </thead>\n  <tbody>\n    <tr>\n      <th>A</th>\n      <td>10</td>\n      <td>20</td>\n      <td>30</td>\n      <td>40</td>\n      <td>50</td>\n    </tr>\n    <tr>\n      <th>B</th>\n      <td>60</td>\n      <td>70</td>\n      <td>80</td>\n      <td>90</td>\n      <td>100</td>\n    </tr>\n    <tr>\n      <th>C</th>\n      <td>110</td>\n      <td>120</td>\n      <td>130</td>\n      <td>140</td>\n      <td>150</td>\n    </tr>\n  </tbody>\n</table>\n</div>"
     },
     "metadata": {},
     "execution_count": 29
    }
   ],
   "source": [
    "df2"
   ]
  },
  {
   "cell_type": "code",
   "execution_count": 30,
   "metadata": {},
   "outputs": [],
   "source": [
    "#Criação Dataframes através de um dicionário\n",
    "dados = { \n",
    "    'produtos':['Video-Game','PC','Mouse','Monitor'],\n",
    "    'preco':[2600,2450.90,99.90,50.00]\n",
    "}\n",
    "\n",
    "df3 = pd.DataFrame(data=dados)"
   ]
  },
  {
   "cell_type": "code",
   "execution_count": 31,
   "metadata": {},
   "outputs": [],
   "source": [
    "#Criando uma nova coluna no Dataframe\n",
    "df3['custo'] = [1900,2000,56,40]\n",
    "df3['lucro'] = df3['preco'] - df3['custo']"
   ]
  },
  {
   "cell_type": "code",
   "execution_count": 32,
   "metadata": {},
   "outputs": [
    {
     "output_type": "execute_result",
     "data": {
      "text/plain": "     produtos   preco  custo  lucro\n0  Video-Game  2600.0   1900  700.0\n1          PC  2450.9   2000  450.9\n2       Mouse    99.9     56   43.9\n3     Monitor    50.0     40   10.0",
      "text/html": "<div>\n<style scoped>\n    .dataframe tbody tr th:only-of-type {\n        vertical-align: middle;\n    }\n\n    .dataframe tbody tr th {\n        vertical-align: top;\n    }\n\n    .dataframe thead th {\n        text-align: right;\n    }\n</style>\n<table border=\"1\" class=\"dataframe\">\n  <thead>\n    <tr style=\"text-align: right;\">\n      <th></th>\n      <th>produtos</th>\n      <th>preco</th>\n      <th>custo</th>\n      <th>lucro</th>\n    </tr>\n  </thead>\n  <tbody>\n    <tr>\n      <th>0</th>\n      <td>Video-Game</td>\n      <td>2600.0</td>\n      <td>1900</td>\n      <td>700.0</td>\n    </tr>\n    <tr>\n      <th>1</th>\n      <td>PC</td>\n      <td>2450.9</td>\n      <td>2000</td>\n      <td>450.9</td>\n    </tr>\n    <tr>\n      <th>2</th>\n      <td>Mouse</td>\n      <td>99.9</td>\n      <td>56</td>\n      <td>43.9</td>\n    </tr>\n    <tr>\n      <th>3</th>\n      <td>Monitor</td>\n      <td>50.0</td>\n      <td>40</td>\n      <td>10.0</td>\n    </tr>\n  </tbody>\n</table>\n</div>"
     },
     "metadata": {},
     "execution_count": 32
    }
   ],
   "source": [
    "df3"
   ]
  },
  {
   "cell_type": "markdown",
   "metadata": {},
   "source": [
    "### Indexação e Seleção de Dataframes"
   ]
  },
  {
   "cell_type": "code",
   "execution_count": 44,
   "metadata": {},
   "outputs": [],
   "source": [
    "#Meses 31 dias\n",
    "indices = ['Janeiro','Março','Maio','Julho','Agosto','Outubro','Dezembro']"
   ]
  },
  {
   "cell_type": "code",
   "execution_count": 45,
   "metadata": {},
   "outputs": [],
   "source": [
    "colunas = np.arange(1,32)"
   ]
  },
  {
   "cell_type": "code",
   "execution_count": 46,
   "metadata": {},
   "outputs": [],
   "source": [
    "dados  = np.random.randint(492,2050,size=(7,31))"
   ]
  },
  {
   "cell_type": "code",
   "execution_count": 43,
   "metadata": {},
   "outputs": [
    {
     "output_type": "execute_result",
     "data": {
      "text/plain": "array([[1864, 1516,  972, 1860, 1691,  979, 1106, 1332, 1175, 1221, 1594,\n         905,  897, 1431,  915,  639, 1870,  860, 1031, 1425, 1866, 1681,\n        1955, 1609,  835, 1824, 1261, 1869, 1531, 1871, 1808],\n       [2034, 1759, 1385, 1357,  580, 1159,  978, 1607, 1376, 1823,  539,\n        1442, 1243,  836,  614,  592,  564, 1532, 1869,  937,  822,  792,\n        1108,  939, 1979, 1816, 1458, 1901, 1634, 1721, 1885],\n       [1538, 1203,  697,  509,  556, 1725,  795,  957, 1577,  568,  945,\n         865, 1003,  694, 1950, 1889, 1037, 1131, 1733,  770, 1086, 1086,\n        1504, 1141,  807, 1486, 1707, 1939, 1804, 1777, 1050],\n       [ 924, 1762, 1535, 1291,  529,  935,  890,  572,  914,  618,  778,\n        1212, 1766, 1546, 1507, 1703,  742, 1866, 1563,  809,  993, 1424,\n        1538,  737,  586, 1633, 1563,  573, 1000, 1085, 1390],\n       [1057, 1203,  716, 1653, 1685, 1164, 1320, 1039,  720, 1601,  537,\n        1848, 1546, 1525,  686, 1431, 1471,  691,  928, 1440,  980,  741,\n        1210,  727,  975,  711, 1870,  849, 1086, 1728, 1634],\n       [1742, 1847,  728, 1323, 1844, 1630, 1259, 1463,  698, 1869,  833,\n        1656, 1896,  572, 1676,  643, 1000,  810, 1918, 1421,  538, 1866,\n        1663, 1189, 1055, 2034,  903,  887,  508, 1428, 1022],\n       [1063,  715,  587, 1271, 1858,  757, 1684,  866,  911, 1201, 1812,\n        1442, 1915,  652, 1507, 1035, 1315, 1687, 1509, 1203,  549, 1716,\n         528,  828, 1236, 1163, 1782, 1479,  905,  680, 1285]])"
     },
     "metadata": {},
     "execution_count": 43
    }
   ],
   "source": [
    "dados"
   ]
  },
  {
   "cell_type": "code",
   "execution_count": 47,
   "metadata": {},
   "outputs": [],
   "source": [
    "df = pd.DataFrame(data=dados,index=indices,columns=colunas)"
   ]
  },
  {
   "cell_type": "code",
   "execution_count": 48,
   "metadata": {},
   "outputs": [
    {
     "output_type": "execute_result",
     "data": {
      "text/plain": "            1     2     3     4     5     6     7     8     9     10  ...  \\\nJaneiro   1440  1644  1034  1642  1016  1127   989  1859  1309  1546  ...   \nMarço     1821  1948  1236  1590   786   671  1308   621  1522  1918  ...   \nMaio       963  1378   787   922  2009  1573  1828  1950  1745   671  ...   \nJulho     2027  1478  1839  1782  1072  1226  2031  1849  1765  1357  ...   \nAgosto    1908  1390   666  1863   557   860   771  1924  1324  1726  ...   \nOutubro   1692   560  1772   613  1449  1604  1636  1778  1051   873  ...   \nDezembro  1877  1783  2035   887   741  1108  1381  1125   985  1145  ...   \n\n            22    23    24    25    26    27    28    29   30    31  \nJaneiro   1590  1605  1673   700   573   583  1112  1777  706  1571  \nMarço      623  1316  1155  1670   694   769   932   891  607  1959  \nMaio       612  1952  1296  1915   633  1479  1124  1239  649   841  \nJulho     1217  1794  1922  1652   528   515   847  1597  524  1297  \nAgosto    1773  1174  1049  1347  1766  1377  1359  1768  925   942  \nOutubro   1567   511  1355   768  1673  1732  1450  2020  830   673  \nDezembro  1353  2018  1201  1344  1103   900  1684  1545  637  1274  \n\n[7 rows x 31 columns]",
      "text/html": "<div>\n<style scoped>\n    .dataframe tbody tr th:only-of-type {\n        vertical-align: middle;\n    }\n\n    .dataframe tbody tr th {\n        vertical-align: top;\n    }\n\n    .dataframe thead th {\n        text-align: right;\n    }\n</style>\n<table border=\"1\" class=\"dataframe\">\n  <thead>\n    <tr style=\"text-align: right;\">\n      <th></th>\n      <th>1</th>\n      <th>2</th>\n      <th>3</th>\n      <th>4</th>\n      <th>5</th>\n      <th>6</th>\n      <th>7</th>\n      <th>8</th>\n      <th>9</th>\n      <th>10</th>\n      <th>...</th>\n      <th>22</th>\n      <th>23</th>\n      <th>24</th>\n      <th>25</th>\n      <th>26</th>\n      <th>27</th>\n      <th>28</th>\n      <th>29</th>\n      <th>30</th>\n      <th>31</th>\n    </tr>\n  </thead>\n  <tbody>\n    <tr>\n      <th>Janeiro</th>\n      <td>1440</td>\n      <td>1644</td>\n      <td>1034</td>\n      <td>1642</td>\n      <td>1016</td>\n      <td>1127</td>\n      <td>989</td>\n      <td>1859</td>\n      <td>1309</td>\n      <td>1546</td>\n      <td>...</td>\n      <td>1590</td>\n      <td>1605</td>\n      <td>1673</td>\n      <td>700</td>\n      <td>573</td>\n      <td>583</td>\n      <td>1112</td>\n      <td>1777</td>\n      <td>706</td>\n      <td>1571</td>\n    </tr>\n    <tr>\n      <th>Março</th>\n      <td>1821</td>\n      <td>1948</td>\n      <td>1236</td>\n      <td>1590</td>\n      <td>786</td>\n      <td>671</td>\n      <td>1308</td>\n      <td>621</td>\n      <td>1522</td>\n      <td>1918</td>\n      <td>...</td>\n      <td>623</td>\n      <td>1316</td>\n      <td>1155</td>\n      <td>1670</td>\n      <td>694</td>\n      <td>769</td>\n      <td>932</td>\n      <td>891</td>\n      <td>607</td>\n      <td>1959</td>\n    </tr>\n    <tr>\n      <th>Maio</th>\n      <td>963</td>\n      <td>1378</td>\n      <td>787</td>\n      <td>922</td>\n      <td>2009</td>\n      <td>1573</td>\n      <td>1828</td>\n      <td>1950</td>\n      <td>1745</td>\n      <td>671</td>\n      <td>...</td>\n      <td>612</td>\n      <td>1952</td>\n      <td>1296</td>\n      <td>1915</td>\n      <td>633</td>\n      <td>1479</td>\n      <td>1124</td>\n      <td>1239</td>\n      <td>649</td>\n      <td>841</td>\n    </tr>\n    <tr>\n      <th>Julho</th>\n      <td>2027</td>\n      <td>1478</td>\n      <td>1839</td>\n      <td>1782</td>\n      <td>1072</td>\n      <td>1226</td>\n      <td>2031</td>\n      <td>1849</td>\n      <td>1765</td>\n      <td>1357</td>\n      <td>...</td>\n      <td>1217</td>\n      <td>1794</td>\n      <td>1922</td>\n      <td>1652</td>\n      <td>528</td>\n      <td>515</td>\n      <td>847</td>\n      <td>1597</td>\n      <td>524</td>\n      <td>1297</td>\n    </tr>\n    <tr>\n      <th>Agosto</th>\n      <td>1908</td>\n      <td>1390</td>\n      <td>666</td>\n      <td>1863</td>\n      <td>557</td>\n      <td>860</td>\n      <td>771</td>\n      <td>1924</td>\n      <td>1324</td>\n      <td>1726</td>\n      <td>...</td>\n      <td>1773</td>\n      <td>1174</td>\n      <td>1049</td>\n      <td>1347</td>\n      <td>1766</td>\n      <td>1377</td>\n      <td>1359</td>\n      <td>1768</td>\n      <td>925</td>\n      <td>942</td>\n    </tr>\n    <tr>\n      <th>Outubro</th>\n      <td>1692</td>\n      <td>560</td>\n      <td>1772</td>\n      <td>613</td>\n      <td>1449</td>\n      <td>1604</td>\n      <td>1636</td>\n      <td>1778</td>\n      <td>1051</td>\n      <td>873</td>\n      <td>...</td>\n      <td>1567</td>\n      <td>511</td>\n      <td>1355</td>\n      <td>768</td>\n      <td>1673</td>\n      <td>1732</td>\n      <td>1450</td>\n      <td>2020</td>\n      <td>830</td>\n      <td>673</td>\n    </tr>\n    <tr>\n      <th>Dezembro</th>\n      <td>1877</td>\n      <td>1783</td>\n      <td>2035</td>\n      <td>887</td>\n      <td>741</td>\n      <td>1108</td>\n      <td>1381</td>\n      <td>1125</td>\n      <td>985</td>\n      <td>1145</td>\n      <td>...</td>\n      <td>1353</td>\n      <td>2018</td>\n      <td>1201</td>\n      <td>1344</td>\n      <td>1103</td>\n      <td>900</td>\n      <td>1684</td>\n      <td>1545</td>\n      <td>637</td>\n      <td>1274</td>\n    </tr>\n  </tbody>\n</table>\n<p>7 rows × 31 columns</p>\n</div>"
     },
     "metadata": {},
     "execution_count": 48
    }
   ],
   "source": [
    "df"
   ]
  },
  {
   "cell_type": "code",
   "execution_count": null,
   "metadata": {},
   "outputs": [],
   "source": [
    "### Realizar consulta seleção\n",
    "\n",
    "''''\n",
    "-> df [ coluna ]  : selecionar a coluna\n",
    "-> df [[colunas]] : selecionar as colunas \n",
    "-> df [coluna][linha] : selecionando coluna e linha \n",
    "-> df [:2  ou :2] : selecionas as linhas\n",
    "-> df.loc[indice linha, indice coluna] -> df.loc['Julho',30]\n",
    "-> df.iloc[indice num linha, ind num coluna]\n",
    "-> df[[indices][colunas]]\n",
    "'''"
   ]
  },
  {
   "cell_type": "code",
   "execution_count": 56,
   "metadata": {},
   "outputs": [
    {
     "output_type": "execute_result",
     "data": {
      "text/plain": "1297"
     },
     "metadata": {},
     "execution_count": 56
    }
   ],
   "source": [
    "df.iloc[3,30]"
   ]
  },
  {
   "cell_type": "code",
   "execution_count": 57,
   "metadata": {},
   "outputs": [
    {
     "output_type": "execute_result",
     "data": {
      "text/plain": "524"
     },
     "metadata": {},
     "execution_count": 57
    }
   ],
   "source": [
    "df.loc['Julho',30]"
   ]
  },
  {
   "cell_type": "code",
   "execution_count": null,
   "metadata": {},
   "outputs": [],
   "source": []
  }
 ],
 "metadata": {
  "language_info": {
   "codemirror_mode": {
    "name": "ipython",
    "version": 3
   },
   "file_extension": ".py",
   "mimetype": "text/x-python",
   "name": "python",
   "nbconvert_exporter": "python",
   "pygments_lexer": "ipython3",
   "version": "3.7.6-final"
  },
  "orig_nbformat": 2,
  "kernelspec": {
   "name": "python3",
   "display_name": "Python 3"
  }
 },
 "nbformat": 4,
 "nbformat_minor": 2
}