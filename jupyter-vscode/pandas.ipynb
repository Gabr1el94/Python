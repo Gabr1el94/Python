{
 "cells": [
  {
   "cell_type": "markdown",
   "metadata": {},
   "source": [
    "# Pandas\n",
    "\n",
    "- Fornece ferramentas de análise de dados e estrututras de dados de alta performance e fáceis de usar voltado para análise de dados.\n",
    "\n",
    "- Independente de como será explorado os dados(dados da internet,arquivos extensão,API e etc...), pandas é a ótima ferramenta para explorar os dados e de como será exibido. "
   ]
  },
  {
   "cell_type": "markdown",
   "metadata": {},
   "source": [
    "### Diferença entre Arrays e Series\n",
    "\n",
    "- Array exibia em uma linha, já Series é será exibido em formato de coluna\n",
    "- Arrays são identificados como Indíce númericos, já Series poderá ser identificados de forma livre espontânea"
   ]
  },
  {
   "cell_type": "code",
   "execution_count": 2,
   "metadata": {},
   "outputs": [],
   "source": [
    "import pandas as pd \n",
    "import numpy as np"
   ]
  },
  {
   "cell_type": "code",
   "execution_count": 7,
   "metadata": {},
   "outputs": [],
   "source": [
    "#Series a partir de uma Lista\n",
    "lista = [10,20,30,40,50]\n",
    "series1 = pd.Series(lista)"
   ]
  },
  {
   "cell_type": "code",
   "execution_count": 8,
   "metadata": {},
   "outputs": [
    {
     "output_type": "execute_result",
     "data": {
      "text/plain": "20"
     },
     "metadata": {},
     "execution_count": 8
    }
   ],
   "source": [
    "series1[1]"
   ]
  },
  {
   "cell_type": "code",
   "execution_count": 16,
   "metadata": {},
   "outputs": [],
   "source": [
    "#Series a partir de um Dicionário\n",
    "dic = {\n",
    "     'telefone':'9999-9999',\n",
    "     'telefone2':'5555-5555',\n",
    "     'telefone3':'6666-6666'\n",
    "}\n",
    "series2 = pd.Series(dic)"
   ]
  },
  {
   "cell_type": "code",
   "execution_count": 17,
   "metadata": {},
   "outputs": [
    {
     "output_type": "execute_result",
     "data": {
      "text/plain": "'9999-9999'"
     },
     "metadata": {},
     "execution_count": 17
    }
   ],
   "source": [
    "series2['telefone']"
   ]
  },
  {
   "cell_type": "code",
   "execution_count": 18,
   "metadata": {},
   "outputs": [
    {
     "output_type": "execute_result",
     "data": {
      "text/plain": "'5555-5555'"
     },
     "metadata": {},
     "execution_count": 18
    }
   ],
   "source": [
    "series2[1]"
   ]
  },
  {
   "cell_type": "code",
   "execution_count": 22,
   "metadata": {},
   "outputs": [],
   "source": [
    "#Series a partir de um Array\n",
    "arr = np.array([10,20,30,40,50])\n",
    "series3 = pd.Series(arr)"
   ]
  },
  {
   "cell_type": "code",
   "execution_count": 23,
   "metadata": {},
   "outputs": [
    {
     "output_type": "execute_result",
     "data": {
      "text/plain": "0    10\n1    20\n2    30\n3    40\n4    50\ndtype: int64"
     },
     "metadata": {},
     "execution_count": 23
    }
   ],
   "source": [
    "series3"
   ]
  },
  {
   "cell_type": "code",
   "execution_count": 24,
   "metadata": {},
   "outputs": [],
   "source": [
    "series5 = pd.Series([1,2,3,4],index=['Brasil','USA','Argentina','Chile'])"
   ]
  },
  {
   "cell_type": "code",
   "execution_count": 25,
   "metadata": {},
   "outputs": [
    {
     "output_type": "execute_result",
     "data": {
      "text/plain": "Brasil       1\nUSA          2\nArgentina    3\nChile        4\ndtype: int64"
     },
     "metadata": {},
     "execution_count": 25
    }
   ],
   "source": [
    "series5"
   ]
  }
 ],
 "metadata": {
  "language_info": {
   "codemirror_mode": {
    "name": "ipython",
    "version": 3
   },
   "file_extension": ".py",
   "mimetype": "text/x-python",
   "name": "python",
   "nbconvert_exporter": "python",
   "pygments_lexer": "ipython3",
   "version": "3.7.6-final"
  },
  "orig_nbformat": 2,
  "kernelspec": {
   "name": "python3",
   "display_name": "Python 3"
  }
 },
 "nbformat": 4,
 "nbformat_minor": 2
}