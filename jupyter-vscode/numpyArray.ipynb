{
 "cells": [
  {
   "cell_type": "markdown",
   "metadata": {},
   "source": [
    "# Entendendo Numpy e Array\n",
    "\n",
    "- Numpy é uma biblioteca de algébra linear voltado para criação existentes para análise de dados. \n",
    "\n",
    "- Array é apenas uma estrutura de dados independente em que será armazenado."
   ]
  },
  {
   "cell_type": "code",
   "execution_count": 3,
   "metadata": {},
   "outputs": [],
   "source": [
    "import numpy as np "
   ]
  },
  {
   "cell_type": "code",
   "execution_count": 4,
   "metadata": {},
   "outputs": [],
   "source": [
    "#Array a partir de uma lista\n",
    "quantidade = [2,5,10,20,35]\n",
    "custo = [100,150,450,320,195]"
   ]
  },
  {
   "cell_type": "code",
   "execution_count": 10,
   "metadata": {},
   "outputs": [],
   "source": [
    "array1 = np.array(quantidade)\n",
    "array2 = np.array(custo)"
   ]
  },
  {
   "cell_type": "code",
   "execution_count": 11,
   "metadata": {},
   "outputs": [],
   "source": [
    "estoque = array1*array2"
   ]
  },
  {
   "cell_type": "code",
   "execution_count": null,
   "metadata": {},
   "outputs": [],
   "source": [
    "estoque"
   ]
  },
  {
   "cell_type": "code",
   "execution_count": 13,
   "metadata": {},
   "outputs": [],
   "source": [
    "custo2 =[100,200,300,400]\n",
    "venda = [125,235,355,490]"
   ]
  },
  {
   "cell_type": "code",
   "execution_count": 15,
   "metadata": {},
   "outputs": [],
   "source": [
    "array3 = np.array(custo2)\n",
    "array4 = np.array(venda)"
   ]
  },
  {
   "cell_type": "code",
   "execution_count": 16,
   "metadata": {},
   "outputs": [],
   "source": [
    "lucro = array4 - array3"
   ]
  },
  {
   "cell_type": "code",
   "execution_count": 17,
   "metadata": {},
   "outputs": [
    {
     "output_type": "execute_result",
     "data": {
      "text/plain": "array([25, 35, 55, 90])"
     },
     "metadata": {},
     "execution_count": 17
    }
   ],
   "source": [
    "lucro"
   ]
  },
  {
   "cell_type": "code",
   "execution_count": 18,
   "metadata": {},
   "outputs": [
    {
     "output_type": "execute_result",
     "data": {
      "text/plain": "array([10, 11, 12, 13, 14, 15, 16, 17, 18, 19])"
     },
     "metadata": {},
     "execution_count": 18
    }
   ],
   "source": [
    "#Arrays a partir do Numpy\n",
    "np.arange(10,20)"
   ]
  },
  {
   "cell_type": "code",
   "execution_count": 19,
   "metadata": {},
   "outputs": [
    {
     "output_type": "execute_result",
     "data": {
      "text/plain": "array([10, 12, 14, 16, 18])"
     },
     "metadata": {},
     "execution_count": 19
    }
   ],
   "source": [
    "np.arange(10,20,2)"
   ]
  },
  {
   "cell_type": "code",
   "execution_count": 20,
   "metadata": {},
   "outputs": [
    {
     "output_type": "execute_result",
     "data": {
      "text/plain": "array([10., 12., 14., 16., 18., 20.])"
     },
     "metadata": {},
     "execution_count": 20
    }
   ],
   "source": [
    "np.arange(10,21,2,dtype=float)"
   ]
  },
  {
   "cell_type": "code",
   "execution_count": 21,
   "metadata": {},
   "outputs": [
    {
     "output_type": "execute_result",
     "data": {
      "text/plain": "array([0.        , 0.11111111, 0.22222222, 0.33333333, 0.44444444,\n       0.55555556, 0.66666667, 0.77777778, 0.88888889, 1.        ])"
     },
     "metadata": {},
     "execution_count": 21
    }
   ],
   "source": [
    "#Linspace\n",
    "np.linspace(0,1,10)"
   ]
  },
  {
   "cell_type": "code",
   "execution_count": 23,
   "metadata": {},
   "outputs": [
    {
     "output_type": "execute_result",
     "data": {
      "text/plain": "array([ 1.,  2.,  3.,  4.,  5.,  6.,  7.,  8.,  9., 10.])"
     },
     "metadata": {},
     "execution_count": 23
    }
   ],
   "source": [
    "np.linspace(1,10,10)"
   ]
  },
  {
   "cell_type": "code",
   "execution_count": 26,
   "metadata": {},
   "outputs": [],
   "source": [
    "#Random - rand,randn e randint\n",
    "rand = np.random.rand(10)\n",
    "randn = np.random.randn(15)\n",
    "randint = np.random.randint(10,100,30)"
   ]
  },
  {
   "cell_type": "code",
   "execution_count": 29,
   "metadata": {},
   "outputs": [
    {
     "output_type": "execute_result",
     "data": {
      "text/plain": "array([22, 19, 17, 44, 33, 45, 68, 88, 43, 39, 61, 41, 14, 67, 55, 68, 30,\n       42, 24, 72, 18, 16, 80, 48, 68, 77, 24, 88, 20, 66])"
     },
     "metadata": {},
     "execution_count": 29
    }
   ],
   "source": [
    "rand"
   ]
  },
  {
   "cell_type": "code",
   "execution_count": 30,
   "metadata": {},
   "outputs": [
    {
     "output_type": "execute_result",
     "data": {
      "text/plain": "array([ 0.84140423, -1.40703922,  0.36378616,  0.29117833,  0.9699599 ,\n       -0.62789573,  1.38309992,  0.59025298, -0.33743033, -0.31613906,\n        0.57652206, -0.66029401, -0.07669333,  0.15400465,  0.53968472])"
     },
     "metadata": {},
     "execution_count": 30
    }
   ],
   "source": [
    "randn"
   ]
  },
  {
   "cell_type": "code",
   "execution_count": 31,
   "metadata": {},
   "outputs": [
    {
     "output_type": "execute_result",
     "data": {
      "text/plain": "array([22, 19, 17, 44, 33, 45, 68, 88, 43, 39, 61, 41, 14, 67, 55, 68, 30,\n       42, 24, 72, 18, 16, 80, 48, 68, 77, 24, 88, 20, 66])"
     },
     "metadata": {},
     "execution_count": 31
    }
   ],
   "source": [
    "randint"
   ]
  },
  {
   "cell_type": "code",
   "execution_count": 32,
   "metadata": {},
   "outputs": [
    {
     "output_type": "execute_result",
     "data": {
      "text/plain": "30"
     },
     "metadata": {},
     "execution_count": 32
    }
   ],
   "source": [
    "len(randint)"
   ]
  },
  {
   "cell_type": "code",
   "execution_count": 33,
   "metadata": {},
   "outputs": [
    {
     "output_type": "execute_result",
     "data": {
      "text/plain": "array([[0., 0., 0., 0.],\n       [0., 0., 0., 0.],\n       [0., 0., 0., 0.],\n       [0., 0., 0., 0.],\n       [0., 0., 0., 0.]])"
     },
     "metadata": {},
     "execution_count": 33
    }
   ],
   "source": [
    "#Zeros e uns\n",
    "np.zeros((5,4))"
   ]
  },
  {
   "cell_type": "code",
   "execution_count": 34,
   "metadata": {},
   "outputs": [
    {
     "output_type": "execute_result",
     "data": {
      "text/plain": "array([[1., 1., 1., 1., 1.],\n       [1., 1., 1., 1., 1.],\n       [1., 1., 1., 1., 1.],\n       [1., 1., 1., 1., 1.],\n       [1., 1., 1., 1., 1.]])"
     },
     "metadata": {},
     "execution_count": 34
    }
   ],
   "source": [
    "np.ones((5,5))"
   ]
  },
  {
   "cell_type": "code",
   "execution_count": 35,
   "metadata": {},
   "outputs": [
    {
     "output_type": "execute_result",
     "data": {
      "text/plain": "array([[1., 0., 0., 0., 0.],\n       [0., 1., 0., 0., 0.],\n       [0., 0., 1., 0., 0.],\n       [0., 0., 0., 1., 0.],\n       [0., 0., 0., 0., 1.]])"
     },
     "metadata": {},
     "execution_count": 35
    }
   ],
   "source": [
    "np.eye(5)"
   ]
  },
  {
   "cell_type": "markdown",
   "metadata": {},
   "source": [
    "### Indexação de Arrays"
   ]
  },
  {
   "cell_type": "code",
   "execution_count": 4,
   "metadata": {},
   "outputs": [],
   "source": [
    "#Unidimensional\n",
    "numbers = np.arange(1,11,dtype=int)"
   ]
  },
  {
   "cell_type": "code",
   "execution_count": 6,
   "metadata": {},
   "outputs": [
    {
     "output_type": "execute_result",
     "data": {
      "text/plain": "5"
     },
     "metadata": {},
     "execution_count": 6
    }
   ],
   "source": [
    "#Indexação de arrays unidimensionais\n",
    "numbers[4]"
   ]
  },
  {
   "cell_type": "code",
   "execution_count": 7,
   "metadata": {},
   "outputs": [
    {
     "output_type": "execute_result",
     "data": {
      "text/plain": "array([ 5,  6,  7,  8,  9, 10])"
     },
     "metadata": {},
     "execution_count": 7
    }
   ],
   "source": [
    "numbers[4:]"
   ]
  },
  {
   "cell_type": "code",
   "execution_count": 8,
   "metadata": {},
   "outputs": [],
   "source": [
    " #Bidimensional \n",
    " numbersBid = np.random.randint(10,50,size=(3,3))"
   ]
  },
  {
   "cell_type": "code",
   "execution_count": 10,
   "metadata": {},
   "outputs": [
    {
     "output_type": "execute_result",
     "data": {
      "text/plain": "array([[32, 13, 16],\n       [13, 37, 47],\n       [15, 30, 22]])"
     },
     "metadata": {},
     "execution_count": 10
    }
   ],
   "source": [
    "numbersBid"
   ]
  },
  {
   "cell_type": "code",
   "execution_count": 11,
   "metadata": {},
   "outputs": [
    {
     "output_type": "execute_result",
     "data": {
      "text/plain": "32"
     },
     "metadata": {},
     "execution_count": 11
    }
   ],
   "source": [
    "numbersBid[0][0]"
   ]
  },
  {
   "cell_type": "code",
   "execution_count": 12,
   "metadata": {},
   "outputs": [
    {
     "output_type": "execute_result",
     "data": {
      "text/plain": "array([15, 30])"
     },
     "metadata": {},
     "execution_count": 12
    }
   ],
   "source": [
    "numbersBid[2][0:2]"
   ]
  },
  {
   "cell_type": "code",
   "execution_count": 13,
   "metadata": {},
   "outputs": [],
   "source": [
    "arr = np.random.randint(1,101,size=(10,10))"
   ]
  },
  {
   "cell_type": "code",
   "execution_count": 14,
   "metadata": {},
   "outputs": [
    {
     "output_type": "execute_result",
     "data": {
      "text/plain": "array([[ 30,  49,  16,  88,  59,  28,  77,   7,  70,  31],\n       [ 27,  16,  38,  93,  61,  48,  73,  44,  35,  38],\n       [ 75,  36,  19,  43,  28,  36,  54,  69,  29,  89],\n       [ 15,  12,  60,  25,   7,  26,   8,  39,  63,  19],\n       [ 96,  92,  92,  20,  95,  38,  99,  55,  81,  86],\n       [ 48,  91,  57,  68,  11,  98,  42,  97,  85,  32],\n       [ 26,  36,  46,  89,  79,  36,  75,  50,  59,  85],\n       [ 97,  51,  99,  33,  18,  69,  90,  83,  94,  86],\n       [ 51,  75,  69,  94,  29,   9,  77,  94, 100,  57],\n       [ 97,  48,  92,  81,   3,  89,  77,  27,   1,  12]])"
     },
     "metadata": {},
     "execution_count": 14
    }
   ],
   "source": [
    "arr"
   ]
  },
  {
   "cell_type": "code",
   "execution_count": 15,
   "metadata": {},
   "outputs": [
    {
     "output_type": "execute_result",
     "data": {
      "text/plain": "array([[  7,  70,  31],\n       [ 44,  35,  38],\n       [ 69,  29,  89],\n       [ 39,  63,  19],\n       [ 55,  81,  86],\n       [ 97,  85,  32],\n       [ 50,  59,  85],\n       [ 83,  94,  86],\n       [ 94, 100,  57],\n       [ 27,   1,  12]])"
     },
     "metadata": {},
     "execution_count": 15
    }
   ],
   "source": [
    "arr[:,7:]"
   ]
  },
  {
   "cell_type": "code",
   "execution_count": 16,
   "metadata": {},
   "outputs": [
    {
     "output_type": "execute_result",
     "data": {
      "text/plain": "array([[ 77,   7,  70],\n       [ 73,  44,  35],\n       [ 54,  69,  29],\n       [  8,  39,  63],\n       [ 99,  55,  81],\n       [ 42,  97,  85],\n       [ 75,  50,  59],\n       [ 90,  83,  94],\n       [ 77,  94, 100],\n       [ 77,  27,   1]])"
     },
     "metadata": {},
     "execution_count": 16
    }
   ],
   "source": [
    "arr[:,6:9]"
   ]
  },
  {
   "cell_type": "code",
   "execution_count": null,
   "metadata": {},
   "outputs": [],
   "source": []
  }
 ],
 "metadata": {
  "language_info": {
   "name": "python",
   "codemirror_mode": {
    "name": "ipython",
    "version": 3
   },
   "version": "3.7.6-final"
  },
  "orig_nbformat": 2,
  "file_extension": ".py",
  "mimetype": "text/x-python",
  "name": "python",
  "npconvert_exporter": "python",
  "pygments_lexer": "ipython3",
  "version": 3,
  "kernelspec": {
   "name": "python3",
   "display_name": "Python 3"
  }
 },
 "nbformat": 4,
 "nbformat_minor": 2
}